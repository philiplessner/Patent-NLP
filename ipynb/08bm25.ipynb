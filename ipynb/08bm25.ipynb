{
 "cells": [
  {
   "cell_type": "markdown",
   "metadata": {},
   "source": [
    "## BM25 Queries ##"
   ]
  },
  {
   "cell_type": "code",
   "execution_count": 1,
   "metadata": {},
   "outputs": [],
   "source": [
    "import linecache\n",
    "from typing import List, Tuple\n",
    "import spacy\n",
    "import gensim\n",
    "from gensim import corpora\n",
    "from gensim.summarization.bm25 import BM25"
   ]
  },
  {
   "cell_type": "code",
   "execution_count": 2,
   "metadata": {},
   "outputs": [],
   "source": [
    "def querytransform(query: str, nlp) -> str:\n",
    "    doc = nlp(query)\n",
    "    return ' '.join([token.lemma_ for token in doc if not token.is_punct])"
   ]
  },
  {
   "cell_type": "code",
   "execution_count": 3,
   "metadata": {},
   "outputs": [],
   "source": [
    "def querydoc2corpus(query: str, \n",
    "                 dictname: gensim.corpora.dictionary.Dictionary) -> List[Tuple[int, int]]:\n",
    "    return dictname.doc2bow(query.split())"
   ]
  },
  {
   "cell_type": "code",
   "execution_count": 21,
   "metadata": {},
   "outputs": [],
   "source": [
    "def queryresults(sims: List[Tuple[int, float]], source: str, nresults=20) -> None:\n",
    "    print('Document', '\\t', 'Score', '\\t\\t', 'Text')\n",
    "    for doc, score in sims[0:nresults]:\n",
    "        print(doc, '\\t\\t{:.4f}'.format(score), '\\t', linecache.getline(source, doc + 1)[0:500], '\\n')"
   ]
  },
  {
   "cell_type": "code",
   "execution_count": 5,
   "metadata": {},
   "outputs": [],
   "source": [
    "def average_idf(bm25: gensim.summarization.bm25.BM25) -> float:\n",
    "    return sum(float(val) for val in bm25.idf.values()) / len(bm25.idf)"
   ]
  },
  {
   "cell_type": "code",
   "execution_count": 6,
   "metadata": {},
   "outputs": [],
   "source": [
    "def similarities(scores: List[float]) -> List[Tuple[int, float]]:\n",
    "    return sorted([(index, score) for index, score in enumerate(scores)], key=lambda x: x[1], reverse=True)"
   ]
  },
  {
   "cell_type": "markdown",
   "metadata": {},
   "source": [
    "### Similarities from BM25 Scores ###"
   ]
  },
  {
   "cell_type": "markdown",
   "metadata": {},
   "source": [
    "**Preprocess the Corpus**"
   ]
  },
  {
   "cell_type": "code",
   "execution_count": 7,
   "metadata": {},
   "outputs": [],
   "source": [
    "# File String Constants\n",
    "TERMDICTFILE = '../models/titleabstract.dict'\n",
    "TERMCORPUSFILE = '../models/titleabstract_corpus.mm'"
   ]
  },
  {
   "cell_type": "code",
   "execution_count": 8,
   "metadata": {},
   "outputs": [],
   "source": [
    "nlp = spacy.load('en')"
   ]
  },
  {
   "cell_type": "code",
   "execution_count": 9,
   "metadata": {},
   "outputs": [],
   "source": [
    "term_dict = corpora.Dictionary.load(TERMDICTFILE)"
   ]
  },
  {
   "cell_type": "code",
   "execution_count": 10,
   "metadata": {},
   "outputs": [],
   "source": [
    "corpus = corpora.MmCorpus(TERMCORPUSFILE)"
   ]
  },
  {
   "cell_type": "code",
   "execution_count": 11,
   "metadata": {},
   "outputs": [],
   "source": [
    "bm_25_obj = BM25(corpus)"
   ]
  },
  {
   "cell_type": "markdown",
   "metadata": {},
   "source": [
    "**Query the Corpus**"
   ]
  },
  {
   "cell_type": "code",
   "execution_count": 26,
   "metadata": {},
   "outputs": [],
   "source": [
    "query = 'multilayer ceramic capacitor'"
   ]
  },
  {
   "cell_type": "code",
   "execution_count": 27,
   "metadata": {},
   "outputs": [],
   "source": [
    "query_transform = querytransform(query, nlp)"
   ]
  },
  {
   "cell_type": "code",
   "execution_count": 28,
   "metadata": {},
   "outputs": [
    {
     "data": {
      "text/plain": [
       "'multilayer ceramic capacitor'"
      ]
     },
     "execution_count": 28,
     "metadata": {},
     "output_type": "execute_result"
    }
   ],
   "source": [
    "query_transform"
   ]
  },
  {
   "cell_type": "code",
   "execution_count": 29,
   "metadata": {},
   "outputs": [],
   "source": [
    "sims = similarities(bm_25_obj.get_scores(querydoc2corpus(query_transform, term_dict), average_idf(bm_25_obj)))"
   ]
  },
  {
   "cell_type": "code",
   "execution_count": 30,
   "metadata": {},
   "outputs": [
    {
     "name": "stdout",
     "output_type": "stream",
     "text": [
      "Document \t Score \t\t Text\n",
      "9149 \t\t32.6444 \t Mounting substrate A multilayer ceramic capacitor connected to an output electrode and an input electrode of a mounting substrate includes a laminated body. In the laminating direction of the laminated body, the shortest distance from an outer first internal electrode to the surface of an external electrode on the side closer to a first principal surface, and the shortest distance from an outer second internal electrode to the surface of an external electrode on the side closer to a second princ \n",
      "\n",
      "13985 \t\t32.6444 \t Composite perovskite powder, preparation method thereof, and paste composition for internal electrode having the same There are provided a composite perovskite powder, a preparation method thereof, and a paste composition for an internal electrode having the same, the composite perovskite powder capable of preventing ions from being eluted from an aqueous system at the time of synthesis while being ultra-atomized, such that when the composite perovskite powder is used as an inhibitor powder for  \n",
      "\n",
      "54813 \t\t32.6444 \t Electroconductive paste The present invention provides a conductive paste that has excellent printability, that can provide a printed electrode with a smooth surface, and that is excellent in storage stability. The present invention relates to a conductive paste used for formation of an electrode of a multilayer ceramic capacitor, the conductive paste including a polyvinyl acetal resin that contains a carboxylic acid-modified polyvinyl acetal resin; an organic solvent; and a conductive powder, t \n",
      "\n",
      "131580 \t\t32.6444 \t Low-temperature sintering dielectric composition and multilayer ceramic capacitor formed thereof A low-temperature sintering dielectric composition contains barium titanate (BaTiO as a main ingredient and accessory ingredients including . to . mol of barium carbonate (BaCO ), . to . mol of at least one rare earth oxide selected from the group consisting of Y O , Ho O , Dy O , and Yb O , . to . mol of manganese oxide (MnO), and . to . mol of borosilicate based glass, based on mol of the main ingr \n",
      "\n",
      "202425 \t\t32.6444 \t Conductive paste, electronic component and method for manufacturing electronic component A conductive paste includes a metal powder, a glass frit containing a Si component, and an organic vehicle. The metal powder has a flat shape with a ratio a/b of a maximum length a to a maximum thickness b of . or more, a molar content of SiO in the glass frit is to percent by mole, and a volume content of the glass frit is to percent by volume. In external electrodes of a multilayer ceramic capacitor using  \n",
      "\n",
      "232269 \t\t32.6444 \t Dielectric composition and multilayer ceramic capacitor containing the same A dielectric composition includes a main ingredient and accessory ingredients. The main ingredient is represented by Bam(Ti -y)My)O . <m . , . y . ), where M is a transition metal including at least one of a pentavalent transition metal and a trivalent transition metal.\n",
      " \n",
      "\n",
      "322250 \t\t32.6444 \t Electroconductive paste The present invention provides a conductive paste that has excellent printability, that can provide a printed electrode with a smooth surface, and that is excellent in storage stability. The present invention relates to a conductive paste used for formation of an electrode of a multilayer ceramic capacitor, the conductive paste including a polyvinyl acetal resin that contains a carboxylic acid-modified polyvinyl acetal resin; an organic solvent; and a conductive powder, t \n",
      "\n",
      "367759 \t\t32.6444 \t Composite perovskite powder, preparation method thereof, and paste composition for internal electrode having the same There are provided a composite perovskite powder, a preparation method thereof, and a paste composition for an internal electrode having the same, the composite perovskite powder capable of preventing ions from being eluted from an aqueous system at the time of synthesis while being ultra-atomized, such that when the composite perovskite powder is used as an inhibitor powder for  \n",
      "\n",
      "372209 \t\t32.6444 \t Mounting substrate A multilayer ceramic capacitor connected to an output electrode and an input electrode of a mounting substrate includes a laminated body. In the laminating direction of the laminated body, the shortest distance from an outer first internal electrode to the surface of an external electrode on the side closer to a first principal surface, and the shortest distance from an outer second internal electrode to the surface of an external electrode on the side closer to a second princ \n",
      "\n",
      "4302 \t\t22.8087 \t COG dielectric composition for use with nickel electrodes Multilayer ceramic chip capacitors which satisfy COG requirements and which are compatible with reducing atmosphere sintering conditions so that non-noble metals such as nickel and nickel alloys thereof may be used for internal and external electrodes are made in accordance with the invention. The capacitors exhibit desirable dielectric properties (high capacitance, low dissipation factor, high insulation resistance), excellent performanc \n",
      "\n",
      "9153 \t\t22.8087 \t Composite electronic component and board having the same A composite electronic component includes a composite body having a multilayer ceramic capacitor and a tantalum capacitor coupled to each other, so as to have an excellent acoustic noise reduction effect, a low equivalent series resistance (ESR)/equivalent series inductance (ESL), improved direct current (DC)-bias characteristics, and a low chip thickness.\n",
      " \n",
      "\n",
      "57379 \t\t22.8087 \t Multilayered ceramic capacitor with improved lead frame attachment A capacitor with improved lead frame attachment is described wherein the improved lead frame attachment mitigates defects. The capacitor comprises parallel conductive internal electrodes of alternating polarity with a dielectric between the conductive internal electrodes. A first copper undercoat is in electrical contact with the conductive internal electrodes of a first polarity and a second copper undercoat is in electrical con \n",
      "\n",
      "154255 \t\t22.8087 \t COG dielectric composition for use with nickel electrodes Multilayer ceramic chip capacitors which satisfy COG requirements and which are compatible with reducing atmosphere sintering conditions so that non-noble metals such as nickel and nickel alloys may be used for internal and external electrodes are disclosed. The capacitors exhibit desirable dielectric properties (high capacitance, low dissipation factor, high insulation resistance), excellent performance on highly accelerated life testing \n",
      "\n",
      "165267 \t\t22.8087 \t Multi-layered proton-conducting electrolyte The present invention provides a multilayer anode/electrolyte assembly comprising a porous anode substrate and a layered solid electrolyte in contact therewith. The layered solid electrolyte includes a first dense layer of yttrium-doped barium zirconate (BZY), optionally including another metal besides Y, Ba, and Zr (e.g., a lanthanide metal such as Pr on one surface thereof, a second dense layer of yttrium-doped barium cerate (BCY), and an interfacial \n",
      "\n",
      "324816 \t\t22.8087 \t Multilayered ceramic capacitor with improved lead frame attachment A capacitor with improved lead frame attachment is described wherein the improved lead frame attachment mitigates defects. The capacitor comprises parallel conductive internal electrodes of alternating polarity with a dielectric between the conductive internal electrodes. A first copper undercoat is in electrical contact with the conductive internal electrodes of a first polarity and a second copper undercoat is in electrical con \n",
      "\n"
     ]
    }
   ],
   "source": [
    "queryresults(sims, '../intermediate/titleabstract.txt', nresults=15)"
   ]
  },
  {
   "cell_type": "code",
   "execution_count": null,
   "metadata": {},
   "outputs": [],
   "source": []
  }
 ],
 "metadata": {
  "kernelspec": {
   "display_name": "Python 3",
   "language": "python",
   "name": "conda-env-py35-py"
  },
  "language_info": {
   "codemirror_mode": {
    "name": "ipython",
    "version": 3
   },
   "file_extension": ".py",
   "mimetype": "text/x-python",
   "name": "python",
   "nbconvert_exporter": "python",
   "pygments_lexer": "ipython3",
   "version": "3.5.4"
  }
 },
 "nbformat": 4,
 "nbformat_minor": 2
}
