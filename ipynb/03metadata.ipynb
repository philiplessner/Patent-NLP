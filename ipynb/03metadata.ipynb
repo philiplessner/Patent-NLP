{
 "cells": [
  {
   "cell_type": "code",
   "execution_count": 1,
   "metadata": {},
   "outputs": [],
   "source": [
    "import tarfile\n",
    "import xml.etree.ElementTree as ET\n",
    "from typing import Iterator, List"
   ]
  },
  {
   "cell_type": "code",
   "execution_count": 2,
   "metadata": {},
   "outputs": [],
   "source": [
    "# File String Constants\n",
    "ARCHIVEFILE = '../intermediate/utility-patent.tar.gz'\n",
    "PATENTNUMFILE = '../intermediate/patentnumbers.txt'\n",
    "CLASSCODEFILE = '../intermediate/classifications_ipc.txt'\n",
    "REFERENCEFILE = '../intermediate/references.txt'"
   ]
  },
  {
   "cell_type": "code",
   "execution_count": 3,
   "metadata": {},
   "outputs": [],
   "source": [
    "def get_archivexml(filepath: str) -> Iterator[str]:\n",
    "    '''Extract xml files from tar.gz archive one at a time\n",
    "    Parameter\n",
    "        filepath: full filepath to xml tar.gz archive\n",
    "    Returns\n",
    "        Iterator of utf-8 encoded xml string\n",
    "    '''\n",
    "    tar = tarfile.open(filepath)\n",
    "    tarmems = tar.getmembers()\n",
    "    for member in tarmems[1:]:\n",
    "        f = tar.extractfile(member)\n",
    "        yield f.read().decode(encoding='utf-8')\n",
    "        f.close()\n",
    "    tar.close()"
   ]
  },
  {
   "cell_type": "code",
   "execution_count": 4,
   "metadata": {},
   "outputs": [],
   "source": [
    "def get_patentnumbers(doc: str) -> str:\n",
    "    '''Get the patent number from the patent xml file and convert it to a string for writing to a file\n",
    "    Parameter\n",
    "        doc: xml document string\n",
    "    Returns\n",
    "        Patent number as string\n",
    "    '''\n",
    "    return str(int(ET.fromstring(doc).findall('.//doc-number')[0].text))"
   ]
  },
  {
   "cell_type": "code",
   "execution_count": 5,
   "metadata": {},
   "outputs": [],
   "source": [
    "def get_references(doc: str) -> str:\n",
    "    '''Get the references\n",
    "    Parameter\n",
    "        doc: xml document string\n",
    "    Returns\n",
    "        References as a space separated string\n",
    "    '''\n",
    "\n",
    "    root = ET.fromstring(doc)\n",
    "    refs = root.findall('.//us-references-cited/us-citation')\n",
    "    s = ''\n",
    "    for ref in refs:\n",
    "        s += ''.join([ref.findtext('.//country', default='').replace(' ', ''),\n",
    "                      ref.findtext('.//doc-number', default='').replace(' ', ''), \n",
    "                      ref.findtext('.//kind', default='').replace(' ', ''),\n",
    "                      ' '])\n",
    "    return s.strip(' ')"
   ]
  },
  {
   "cell_type": "code",
   "execution_count": 6,
   "metadata": {},
   "outputs": [],
   "source": [
    "def get_classifications_ipc(doc: str) -> str:\n",
    "    '''Get the IPC classfication\n",
    "    Parameter\n",
    "        doc: xml document string\n",
    "    Returns\n",
    "        Patent classfication strings, as a space separated string\n",
    "    '''\n",
    "    root = ET.fromstring(doc)\n",
    "    ipcs = root.findall('.//classification-ipcr')\n",
    "    s = ''\n",
    "    for ipc in ipcs:\n",
    "        code = ''.join([ipc.findtext('.//section'), \n",
    "                        ipc.findtext('.//class'), \n",
    "                        ipc.findtext('.//subclass'), \n",
    "                        ipc.findtext('.//main-group'), \n",
    "                        ipc.findtext('.//subgroup'), \n",
    "                        ' '])\n",
    "        s += code\n",
    "    return s.strip(' ')"
   ]
  },
  {
   "cell_type": "code",
   "execution_count": 7,
   "metadata": {},
   "outputs": [],
   "source": [
    "def metadata2files(infile: str, outfile: List[str]) -> None:\n",
    "    with open(outfile[0], 'w', encoding='utf-8') as of0:\n",
    "        with open(outfile[1], 'w', encoding='utf-8') as of1:\n",
    "            with open(outfile[2], 'w', encoding='utf-8') as of2:\n",
    "                for doc in get_archivexml(infile):\n",
    "                    of0.write(get_patentnumbers(doc) + '\\n')\n",
    "                    of1.write(get_references(doc) + '\\n')\n",
    "                    of2.write(get_classifications_ipc(doc) + '\\n')"
   ]
  },
  {
   "cell_type": "code",
   "execution_count": 8,
   "metadata": {},
   "outputs": [],
   "source": [
    "metadata2files(ARCHIVEFILE, [PATENTNUMFILE, REFERENCEFILE, CLASSCODEFILE])"
   ]
  }
 ],
 "metadata": {
  "kernelspec": {
   "display_name": "Python [conda env:py35]",
   "language": "python",
   "name": "conda-env-py35-py"
  },
  "language_info": {
   "codemirror_mode": {
    "name": "ipython",
    "version": 3
   },
   "file_extension": ".py",
   "mimetype": "text/x-python",
   "name": "python",
   "nbconvert_exporter": "python",
   "pygments_lexer": "ipython3",
   "version": "3.5.4"
  }
 },
 "nbformat": 4,
 "nbformat_minor": 2
}
