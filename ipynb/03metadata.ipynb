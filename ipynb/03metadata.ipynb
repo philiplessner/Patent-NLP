{
 "cells": [
  {
   "cell_type": "code",
   "execution_count": 1,
   "metadata": {},
   "outputs": [],
   "source": [
    "import xml.etree.ElementTree as ET\n",
    "from typing import List\n",
    "from common import file_find, get_archivexml"
   ]
  },
  {
   "cell_type": "code",
   "execution_count": 2,
   "metadata": {},
   "outputs": [],
   "source": [
    "# File String Constants\n",
    "TOP = '/Volumes/Lexar'\n",
    "PATENTNUMFILE = '/Volumes/Lexar/plaintext/01patentnumbers.txt'\n",
    "CLASSCODEFILE = '/Volumes/Lexar/plaintext/01classifications_ipc.txt'\n",
    "REFERENCEFILE = '/Volumes/Lexar/plaintext/01references.txt'"
   ]
  },
  {
   "cell_type": "code",
   "execution_count": 3,
   "metadata": {},
   "outputs": [],
   "source": [
    "def get_patentnumbers(doc: str) -> str:\n",
    "    '''Get the patent number from the patent xml file and convert it to a string for writing to a file\n",
    "    Parameter\n",
    "        doc: xml document string\n",
    "    Returns\n",
    "        Patent number as string\n",
    "    '''\n",
    "    return str(int(ET.fromstring(doc).findall('.//doc-number')[0].text))"
   ]
  },
  {
   "cell_type": "code",
   "execution_count": 4,
   "metadata": {},
   "outputs": [],
   "source": [
    "def get_references(doc: str) -> str:\n",
    "    '''Get the references\n",
    "    Parameter\n",
    "        doc: xml document string\n",
    "    Returns\n",
    "        References as a space separated string\n",
    "    '''\n",
    "\n",
    "    root = ET.fromstring(doc)\n",
    "    refs = root.findall('.//us-references-cited/us-citation')\n",
    "    s = ''\n",
    "    for ref in refs:\n",
    "        s += ''.join([ref.findtext('.//country', default='').replace(' ', ''),\n",
    "                      ref.findtext('.//doc-number', default='').replace(' ', ''), \n",
    "                      ref.findtext('.//kind', default='').replace(' ', ''),\n",
    "                      ' '])\n",
    "    s += str(int(root.findall('.//doc-number')[0].text)) # Add current patent number for forward references\n",
    "    return s.strip(' ')"
   ]
  },
  {
   "cell_type": "code",
   "execution_count": 5,
   "metadata": {},
   "outputs": [],
   "source": [
    "def get_classifications_ipc(doc: str) -> str:\n",
    "    '''Get the IPC classfication\n",
    "    Parameter\n",
    "        doc: xml document string\n",
    "    Returns\n",
    "        Patent classfication strings, as a space separated string\n",
    "    '''\n",
    "    root = ET.fromstring(doc)\n",
    "    ipcs = root.findall('.//classification-ipcr')\n",
    "    s = ''\n",
    "    for ipc in ipcs:\n",
    "        code = ''.join([ipc.findtext('.//section'), \n",
    "                        ipc.findtext('.//class'), \n",
    "                        ipc.findtext('.//subclass'), \n",
    "                        ipc.findtext('.//main-group'), \n",
    "                        ipc.findtext('.//subgroup'), \n",
    "                        ' '])\n",
    "        s += code\n",
    "    return s.strip(' ')"
   ]
  },
  {
   "cell_type": "code",
   "execution_count": 6,
   "metadata": {},
   "outputs": [],
   "source": [
    "def metadata2files(infile: str, outfile: List[str]) -> None:\n",
    "    with open(outfile[0], 'a', encoding='utf-8') as of0:\n",
    "        with open(outfile[1], 'a', encoding='utf-8') as of1:\n",
    "            with open(outfile[2], 'a', encoding='utf-8') as of2:\n",
    "                for doc in get_archivexml(infile):\n",
    "                    of0.write(get_patentnumbers(doc) + '\\n')\n",
    "                    of1.write(get_references(doc) + '\\n')\n",
    "                    of2.write(get_classifications_ipc(doc) + '\\n')"
   ]
  },
  {
   "cell_type": "code",
   "execution_count": 7,
   "metadata": {},
   "outputs": [],
   "source": [
    "for archivefile in file_find('utility*.tar.gz', TOP):\n",
    "    metadata2files(archivefile, [PATENTNUMFILE, REFERENCEFILE, CLASSCODEFILE])"
   ]
  }
 ],
 "metadata": {
  "kernelspec": {
   "display_name": "Python [conda env:py35]",
   "language": "python",
   "name": "conda-env-py35-py"
  },
  "language_info": {
   "codemirror_mode": {
    "name": "ipython",
    "version": 3
   },
   "file_extension": ".py",
   "mimetype": "text/x-python",
   "name": "python",
   "nbconvert_exporter": "python",
   "pygments_lexer": "ipython3",
   "version": "3.5.4"
  }
 },
 "nbformat": 4,
 "nbformat_minor": 2
}
