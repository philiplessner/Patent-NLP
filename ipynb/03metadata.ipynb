{
 "cells": [
  {
   "cell_type": "code",
   "execution_count": 1,
   "metadata": {},
   "outputs": [],
   "source": [
    "import tarfile\n",
    "import xml.etree.ElementTree as ET\n",
    "from typing import Iterator"
   ]
  },
  {
   "cell_type": "code",
   "execution_count": 9,
   "metadata": {},
   "outputs": [],
   "source": [
    "# String Constants\n",
    "ARCHIVEFILE = '../intermediate/utility-patent.tar.gz'\n",
    "PATENTNUMFILE = '../intermediate/patentnumbers.txt'\n",
    "CLASSCODEFILE = '../intermediate/classifications.txt'"
   ]
  },
  {
   "cell_type": "code",
   "execution_count": 3,
   "metadata": {},
   "outputs": [],
   "source": [
    "def get_archivexml(filepath: str) -> Iterator[str]:\n",
    "    '''Extract xml files from tar.gz archive one at a time\n",
    "    Parameter\n",
    "        filepath: full filepath to xml tar.gz archive\n",
    "    Returns\n",
    "        Iterator of utf-8 encoded xml string\n",
    "    '''\n",
    "    tar = tarfile.open(filepath)\n",
    "    tarmems = tar.getmembers()\n",
    "    for member in tarmems[1:]:\n",
    "        f = tar.extractfile(member)\n",
    "        yield f.read().decode(encoding='utf-8')\n",
    "        f.close()\n",
    "    tar.close()"
   ]
  },
  {
   "cell_type": "code",
   "execution_count": 4,
   "metadata": {},
   "outputs": [],
   "source": [
    "def get_patentnumbers(filepath: str) -> Iterator[str]:\n",
    "    '''Get the patent number from the patent xml file and convert it to a string for writing to a file\n",
    "    '''\n",
    "    for doc in get_archivexml(filepath):\n",
    "        yield str(int(ET.fromstring(doc).findall('.//doc-number')[0].text))"
   ]
  },
  {
   "cell_type": "code",
   "execution_count": 5,
   "metadata": {},
   "outputs": [],
   "source": [
    "def patentnumber2file(infile: str, outfile: str) -> None:\n",
    "    with open(outfile, 'w', encoding='utf-8') as of:\n",
    "        for doc in get_patentnumbers(infile):\n",
    "            of.write(doc + '\\n')"
   ]
  },
  {
   "cell_type": "code",
   "execution_count": 6,
   "metadata": {},
   "outputs": [],
   "source": [
    "patentnumber2file(ARCHIVEFILE, PATENTNUMFILE)"
   ]
  },
  {
   "cell_type": "code",
   "execution_count": 11,
   "metadata": {},
   "outputs": [],
   "source": [
    "def get_classifications(filepath: str) -> Iterator[str]:\n",
    "    '''Get the CPC classfication\n",
    "    Parameter\n",
    "        filepath: full path to file containing xml\n",
    "    Returns\n",
    "        iterator of patent classfication strings, one per patent\n",
    "    '''\n",
    "    for doc in get_archivexml(filepath):\n",
    "        root = ET.fromstring(doc)\n",
    "        yield ''.join([root.findall('.//section')[0].text,\n",
    "                       root.findall('.//class')[0].text,\n",
    "                       root.findall('.//subclass')[0].text])"
   ]
  },
  {
   "cell_type": "code",
   "execution_count": 12,
   "metadata": {},
   "outputs": [],
   "source": [
    "def classification2file(infile: str, outfile: str) -> None:\n",
    "    with open(outfile, 'w', encoding='utf-8') as of:\n",
    "        for doc in get_classifications(infile):\n",
    "            of.write(doc + '\\n')"
   ]
  },
  {
   "cell_type": "code",
   "execution_count": 13,
   "metadata": {},
   "outputs": [],
   "source": [
    "classification2file(ARCHIVEFILE, CLASSCODEFILE)"
   ]
  },
  {
   "cell_type": "code",
   "execution_count": null,
   "metadata": {},
   "outputs": [],
   "source": []
  }
 ],
 "metadata": {
  "kernelspec": {
   "display_name": "Python [conda env:py35]",
   "language": "python",
   "name": "conda-env-py35-py"
  },
  "language_info": {
   "codemirror_mode": {
    "name": "ipython",
    "version": 3
   },
   "file_extension": ".py",
   "mimetype": "text/x-python",
   "name": "python",
   "nbconvert_exporter": "python",
   "pygments_lexer": "ipython3",
   "version": "3.5.4"
  }
 },
 "nbformat": 4,
 "nbformat_minor": 2
}
