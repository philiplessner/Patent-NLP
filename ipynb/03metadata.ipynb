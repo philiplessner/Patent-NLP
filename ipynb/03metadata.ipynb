{
 "cells": [
  {
   "cell_type": "code",
   "execution_count": 1,
   "metadata": {},
   "outputs": [],
   "source": [
    "import tarfile\n",
    "import xml.etree.ElementTree as ET\n",
    "from typing import Iterator"
   ]
  },
  {
   "cell_type": "code",
   "execution_count": 2,
   "metadata": {},
   "outputs": [],
   "source": [
    "# String Constants\n",
    "ARCHIVEFILE = '../intermediate/utility-patent.tar.gz'\n",
    "PATENTNUMFILE = '../intermediate/patentnumbers.txt'\n",
    "CLASSCODEFILE = '../intermediate/classifications.txt'\n",
    "REFERENCEFILE = '../intermediate/references.txt'"
   ]
  },
  {
   "cell_type": "code",
   "execution_count": 3,
   "metadata": {},
   "outputs": [],
   "source": [
    "def get_archivexml(filepath: str) -> Iterator[str]:\n",
    "    '''Extract xml files from tar.gz archive one at a time\n",
    "    Parameter\n",
    "        filepath: full filepath to xml tar.gz archive\n",
    "    Returns\n",
    "        Iterator of utf-8 encoded xml string\n",
    "    '''\n",
    "    tar = tarfile.open(filepath)\n",
    "    tarmems = tar.getmembers()\n",
    "    for member in tarmems[1:]:\n",
    "        f = tar.extractfile(member)\n",
    "        yield f.read().decode(encoding='utf-8')\n",
    "        f.close()\n",
    "    tar.close()"
   ]
  },
  {
   "cell_type": "code",
   "execution_count": 4,
   "metadata": {},
   "outputs": [],
   "source": [
    "def get_patentnumbers(filepath: str) -> Iterator[str]:\n",
    "    '''Get the patent number from the patent xml file and convert it to a string for writing to a file\n",
    "    '''\n",
    "    for doc in get_archivexml(filepath):\n",
    "        yield str(int(ET.fromstring(doc).findall('.//doc-number')[0].text))"
   ]
  },
  {
   "cell_type": "code",
   "execution_count": 5,
   "metadata": {},
   "outputs": [],
   "source": [
    "def patentnumber2file(infile: str, outfile: str) -> None:\n",
    "    with open(outfile, 'w', encoding='utf-8') as of:\n",
    "        for doc in get_patentnumbers(infile):\n",
    "            of.write(doc + '\\n')"
   ]
  },
  {
   "cell_type": "code",
   "execution_count": 6,
   "metadata": {},
   "outputs": [],
   "source": [
    "patentnumber2file(ARCHIVEFILE, PATENTNUMFILE)"
   ]
  },
  {
   "cell_type": "code",
   "execution_count": 7,
   "metadata": {},
   "outputs": [],
   "source": [
    "def get_classifications(filepath: str) -> Iterator[str]:\n",
    "    '''Get the CPC classfication\n",
    "    Parameter\n",
    "        filepath: full path to file containing xml\n",
    "    Returns\n",
    "        iterator of patent classfication strings, as a space separated string\n",
    "    '''\n",
    "    for doc in get_archivexml(filepath):\n",
    "        root = ET.fromstring(doc)\n",
    "        #prefix = './/'\n",
    "        #yield ''.join([root.findtext(prefix + 'section'),\n",
    "        #               root.findtext(prefix + 'class'),\n",
    "        #               root.findtext(prefix + 'subclass'),\n",
    "        #               root.findtext(prefix + 'main-group'),\n",
    "        #               root.findtext(prefix + 'subgroup')])\n",
    "        cpcs = root.findall('.//classification-cpc')\n",
    "        s = ''\n",
    "        for cpc in cpcs:\n",
    "            code = ''.join([cpc.findtext('.//section'), \n",
    "                            cpc.findtext('.//class'), \n",
    "                            cpc.findtext('.//subclass'), \n",
    "                            cpc.findtext('.//main-group'), \n",
    "                            cpc.findtext('.//subgroup'), ' '])\n",
    "            s += code\n",
    "        yield s.strip(' ')"
   ]
  },
  {
   "cell_type": "code",
   "execution_count": 8,
   "metadata": {},
   "outputs": [],
   "source": [
    "def classification2file(infile: str, outfile: str) -> None:\n",
    "    with open(outfile, 'w', encoding='utf-8') as of:\n",
    "        for doc in get_classifications(infile):\n",
    "            of.write(doc + '\\n')"
   ]
  },
  {
   "cell_type": "code",
   "execution_count": 9,
   "metadata": {},
   "outputs": [],
   "source": [
    "classification2file(ARCHIVEFILE, CLASSCODEFILE)"
   ]
  },
  {
   "cell_type": "code",
   "execution_count": 10,
   "metadata": {},
   "outputs": [],
   "source": [
    "def get_references(filepath: str) -> Iterator[str]:\n",
    "    '''Get the references\n",
    "    Parameter\n",
    "        filepath: full path to file containing xml\n",
    "    Returns\n",
    "        iterator of references as a space separated string\n",
    "    '''\n",
    "    for doc in get_archivexml(filepath):\n",
    "        root = ET.fromstring(doc)\n",
    "        refs = root.findall('.//us-references-cited/us-citation')\n",
    "        s = ''\n",
    "        for ref in refs:\n",
    "            country = ref.findtext('.//country').replace(' ', '') if ref.findtext('.//country') is not None else ''\n",
    "            doc_number = ref.findtext('.//doc-number').replace(' ', '') if ref.findtext('.//doc-number') is not None else ''\n",
    "            kind = ref.findtext('.//kind').replace(' ', '') if ref.findtext('.//kind') is not None  else ''\n",
    "            s += ''.join([country, doc_number, kind, ' '])\n",
    "        yield s.strip(' ')"
   ]
  },
  {
   "cell_type": "code",
   "execution_count": 11,
   "metadata": {},
   "outputs": [],
   "source": [
    "def references2file(infile: str, outfile: str) -> None:\n",
    "    with open(outfile, 'w', encoding='utf-8') as of:\n",
    "        for doc in get_references(infile):\n",
    "            of.write(doc + '\\n')"
   ]
  },
  {
   "cell_type": "code",
   "execution_count": 12,
   "metadata": {},
   "outputs": [],
   "source": [
    "references2file(ARCHIVEFILE, REFERENCEFILE)"
   ]
  },
  {
   "cell_type": "code",
   "execution_count": null,
   "metadata": {},
   "outputs": [],
   "source": []
  }
 ],
 "metadata": {
  "kernelspec": {
   "display_name": "Python [conda env:py35]",
   "language": "python",
   "name": "conda-env-py35-py"
  },
  "language_info": {
   "codemirror_mode": {
    "name": "ipython",
    "version": 3
   },
   "file_extension": ".py",
   "mimetype": "text/x-python",
   "name": "python",
   "nbconvert_exporter": "python",
   "pygments_lexer": "ipython3",
   "version": "3.5.4"
  }
 },
 "nbformat": 4,
 "nbformat_minor": 2
}
