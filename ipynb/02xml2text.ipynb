{
 "cells": [
  {
   "cell_type": "markdown",
   "metadata": {},
   "source": [
    "### Plain Text from XML ###"
   ]
  },
  {
   "cell_type": "code",
   "execution_count": 1,
   "metadata": {},
   "outputs": [],
   "source": [
    "import re\n",
    "import tarfile\n",
    "import xml.etree.ElementTree as ET\n",
    "from itertools import chain\n",
    "from typing import Iterator\n",
    "from cytoolz import compose\n",
    "from common import file_find, get_archivexml"
   ]
  },
  {
   "cell_type": "code",
   "execution_count": 2,
   "metadata": {},
   "outputs": [],
   "source": [
    "# File String Constants\n",
    "TOP = '/Volumes/Lexar'\n",
    "PLAINTEXTFILE = '/Volumes/Lexar/plaintext/01titleabstract.txt'"
   ]
  },
  {
   "cell_type": "markdown",
   "metadata": {},
   "source": [
    "#### Getting Plain Text ####\n",
    "\n",
    "We get plain text from the xml tags of interest. The itertext() method is used to get text from a tag that has subtags in it (such as the abstract). The text is concatenated into a string."
   ]
  },
  {
   "cell_type": "code",
   "execution_count": 3,
   "metadata": {},
   "outputs": [],
   "source": [
    "def xml2plaintext(doc: Iterator[str]) -> str:\n",
    "    '''Convert the xml documents into plain text from selected tags\n",
    "    Parameters\n",
    "        doc: full xml document as an iterator of string\n",
    "    Returns\n",
    "        plain text string containing text from select tags\n",
    "    '''\n",
    "    tagstoget = ['invention-title','abstract']\n",
    "    root = ET.fromstring(doc)\n",
    "    return ' '.join(''.join(chain.from_iterable([[t for t in root.find('.//' + tagtoget).itertext()] \n",
    "                                                 for tagtoget in tagstoget])).splitlines())"
   ]
  },
  {
   "cell_type": "markdown",
   "metadata": {},
   "source": [
    "#### Cleaning Plain Text ####\n",
    "\n",
    "Patent text contains tokens like numbers (usually refering to figures) and special characters. These routines can be composed together to remove them. We do keep periods and commas in this step to allow the spacy library to split the documents into sentences which are required for n-gram models and word2vec."
   ]
  },
  {
   "cell_type": "code",
   "execution_count": 4,
   "metadata": {},
   "outputs": [],
   "source": [
    "def remove_numbers(docstr: str) -> str:\n",
    "    return re.sub('[0-9]+', ' ', docstr)\n",
    "\n",
    "def remove_specialchar(docstr: str) -> str:\n",
    "    pattern = re.compile(r'[#$%&()*+_/:<=>@^{}|] | \\[ | ] | -')\n",
    "    return pattern.sub(\" \", docstr)\n",
    "\n",
    "def remove_nonascii(s: str) -> str:\n",
    "    return \"\".join(i for i in s if ord(i) < 128)\n",
    "\n",
    "def remove_extrawhitespace(docstr: str) -> str:\n",
    "    return re.sub(' {2,}', ' ', docstr)"
   ]
  },
  {
   "cell_type": "code",
   "execution_count": 5,
   "metadata": {},
   "outputs": [],
   "source": [
    "def cleantext(infile: str, outfile: str) -> None:\n",
    "    '''Cleaned Text starting with xml file archive and returing text from selected fields.\n",
    "       Each document is saved as a newline separated string to the file.\n",
    "    Parameters\n",
    "        infile: full path to tar.gz xml archive\n",
    "        outfile: full path to outputed clean text file\n",
    "    '''\n",
    "    plaintext = compose(remove_extrawhitespace, \n",
    "                        remove_nonascii, \n",
    "                        remove_specialchar, \n",
    "                        remove_numbers,\n",
    "                        xml2plaintext)\n",
    "    with open(outfile, 'a', encoding='utf-8') as f:\n",
    "        for doc in get_archivexml(infile):\n",
    "            text = plaintext(doc)\n",
    "            f.write(text + '\\n')"
   ]
  },
  {
   "cell_type": "code",
   "execution_count": 6,
   "metadata": {},
   "outputs": [],
   "source": [
    "for archivefile in file_find('utility*.tar.gz', TOP):\n",
    "    cleantext(archivefile, PLAINTEXTFILE)"
   ]
  }
 ],
 "metadata": {
  "kernelspec": {
   "display_name": "Python [conda env:py35]",
   "language": "python",
   "name": "conda-env-py35-py"
  },
  "language_info": {
   "codemirror_mode": {
    "name": "ipython",
    "version": 3
   },
   "file_extension": ".py",
   "mimetype": "text/x-python",
   "name": "python",
   "nbconvert_exporter": "python",
   "pygments_lexer": "ipython3",
   "version": "3.5.4"
  }
 },
 "nbformat": 4,
 "nbformat_minor": 2
}
