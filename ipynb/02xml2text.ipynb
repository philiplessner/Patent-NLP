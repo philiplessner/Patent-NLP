{
 "cells": [
  {
   "cell_type": "code",
   "execution_count": 1,
   "metadata": {},
   "outputs": [],
   "source": [
    "import re\n",
    "import tarfile\n",
    "import xml.etree.ElementTree as ET\n",
    "from itertools import chain\n",
    "from typing import Iterator\n",
    "from cytoolz import compose"
   ]
  },
  {
   "cell_type": "code",
   "execution_count": 2,
   "metadata": {},
   "outputs": [],
   "source": [
    "# String Constants\n",
    "ARCHIVEFILE = '../intermediate/utility-patent.tar.gz'\n",
    "PLAINTEXTFILE = '../intermediate/titleabstract.txt'"
   ]
  },
  {
   "cell_type": "code",
   "execution_count": 3,
   "metadata": {},
   "outputs": [],
   "source": [
    "def get_archivexml(filepath: str) -> Iterator[str]:\n",
    "    '''Extract xml files from tar.gz archive one at a time\n",
    "    Parameter\n",
    "        filepath: full filepath to xml tar.gz archive\n",
    "    Returns\n",
    "        Iterator of utf-8 encoded xml string\n",
    "    '''\n",
    "    tar = tarfile.open(filepath)\n",
    "    tarmems = tar.getmembers()\n",
    "    for member in tarmems[1:]:\n",
    "        f = tar.extractfile(member)\n",
    "        yield f.read().decode(encoding='utf-8')\n",
    "        f.close()\n",
    "    tar.close()"
   ]
  },
  {
   "cell_type": "code",
   "execution_count": 4,
   "metadata": {},
   "outputs": [],
   "source": [
    "def xml2plaintext(doc: Iterator[str]) -> str:\n",
    "    '''Convert the xml documents into plain text from selected tags\n",
    "    Parameters\n",
    "        doc: full xml document as an iterator of string\n",
    "    Returns\n",
    "        plain text string containing text from select tags\n",
    "    '''\n",
    "    tagstoget = ['invention-title','abstract']\n",
    "    root = ET.fromstring(doc)\n",
    "    return ' '.join(''.join(chain.from_iterable([[t for t in root.find('.//' + tagtoget).itertext()] \n",
    "                                                 for tagtoget in tagstoget])).splitlines())"
   ]
  },
  {
   "cell_type": "code",
   "execution_count": 5,
   "metadata": {},
   "outputs": [],
   "source": [
    "def remove_numbers(docstr: str) -> str:\n",
    "    return re.sub('[0-9]+', ' ', docstr)\n",
    "\n",
    "def remove_specialchar(docstr: str) -> str:\n",
    "    pattern = re.compile(r'[#$%&()*+_/:<=>@^{}|] | \\[ | ] | -')\n",
    "    return pattern.sub(\" \", docstr)\n",
    "\n",
    "def remove_nonascii(s: str) -> str:\n",
    "    return \"\".join(i for i in s if ord(i) < 128)\n",
    "\n",
    "def remove_extrawhitespace(docstr: str) -> str:\n",
    "    return re.sub(' {2,}', ' ', docstr)"
   ]
  },
  {
   "cell_type": "code",
   "execution_count": 6,
   "metadata": {},
   "outputs": [],
   "source": [
    "def cleantext(infile: str, outfile: str) -> None:\n",
    "    '''Cleaned Text starting with xml file archive and returing text from selected fields\n",
    "    Parameters\n",
    "        infile: full path to tar.gz xml archive\n",
    "        outfile: full path to outputed clean text file\n",
    "    '''\n",
    "    plaintext = compose(remove_extrawhitespace, \n",
    "                        remove_nonascii, \n",
    "                        remove_specialchar, \n",
    "                        remove_numbers,\n",
    "                        xml2plaintext)\n",
    "    with open(outfile, 'w', encoding='utf-8') as f:\n",
    "        for doc in get_archivexml(infile):\n",
    "            text = plaintext(doc)\n",
    "            f.write(text + '\\n')"
   ]
  },
  {
   "cell_type": "code",
   "execution_count": 7,
   "metadata": {},
   "outputs": [],
   "source": [
    "cleantext(ARCHIVEFILE, PLAINTEXTFILE)"
   ]
  }
 ],
 "metadata": {
  "kernelspec": {
   "display_name": "Python [conda env:py35]",
   "language": "python",
   "name": "conda-env-py35-py"
  },
  "language_info": {
   "codemirror_mode": {
    "name": "ipython",
    "version": 3
   },
   "file_extension": ".py",
   "mimetype": "text/x-python",
   "name": "python",
   "nbconvert_exporter": "python",
   "pygments_lexer": "ipython3",
   "version": "3.5.4"
  }
 },
 "nbformat": 4,
 "nbformat_minor": 2
}
