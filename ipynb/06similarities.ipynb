{
 "cells": [
  {
   "cell_type": "code",
   "execution_count": 1,
   "metadata": {},
   "outputs": [],
   "source": [
    "import linecache\n",
    "from typing import List, Tuple\n",
    "import spacy\n",
    "import gensim\n",
    "from gensim import corpora, models\n",
    "from gensim.similarities.docsim import SparseMatrixSimilarity"
   ]
  },
  {
   "cell_type": "code",
   "execution_count": 2,
   "metadata": {},
   "outputs": [],
   "source": [
    "def querytransform(query: str, nlp) -> str:\n",
    "    doc = nlp(query)\n",
    "    return ' '.join([token.lemma_ for token in doc if not token.is_punct])"
   ]
  },
  {
   "cell_type": "code",
   "execution_count": 3,
   "metadata": {},
   "outputs": [],
   "source": [
    "def querydoc2vec(query: str, \n",
    "                 dictname: gensim.corpora.dictionary.Dictionary, \n",
    "                 model: gensim.models.tfidfmodel.TfidfModel) -> List[Tuple[int, float]]:\n",
    "    return model[dictname.doc2bow(query.split())]"
   ]
  },
  {
   "cell_type": "code",
   "execution_count": 4,
   "metadata": {},
   "outputs": [],
   "source": [
    "def queryresults(sims: List[Tuple[int, float]], source: str) -> None:\n",
    "    print('Document', '\\t', 'Score', '\\t', 'Text')\n",
    "    for doc, score in sims:\n",
    "        print(doc, '\\t\\t{:.4f}'.format(score), '\\t', linecache.getline(source, doc + 1)[0:200], '\\n')"
   ]
  },
  {
   "cell_type": "code",
   "execution_count": 5,
   "metadata": {},
   "outputs": [],
   "source": [
    "# File String Constants\n",
    "TERMDICTFILE = '../models/titleabstract.dict'\n",
    "TERMTFIDFMODELFILE = '../models/titleabstract.tfidf_model'\n",
    "TERMTFIDFFILE = '../models/titleabstract_tfidf.mm'"
   ]
  },
  {
   "cell_type": "code",
   "execution_count": 6,
   "metadata": {},
   "outputs": [],
   "source": [
    "nlp = spacy.load('en')"
   ]
  },
  {
   "cell_type": "code",
   "execution_count": 7,
   "metadata": {},
   "outputs": [],
   "source": [
    "term_dict = corpora.Dictionary.load(TERMDICTFILE)"
   ]
  },
  {
   "cell_type": "code",
   "execution_count": 8,
   "metadata": {},
   "outputs": [],
   "source": [
    "term_tfidf_model = models.TfidfModel.load(TERMTFIDFMODELFILE)"
   ]
  },
  {
   "cell_type": "code",
   "execution_count": 9,
   "metadata": {},
   "outputs": [],
   "source": [
    "term_tfidf = corpora.MmCorpus(TERMTFIDFFILE)"
   ]
  },
  {
   "cell_type": "code",
   "execution_count": 10,
   "metadata": {},
   "outputs": [],
   "source": [
    "index = SparseMatrixSimilarity(term_tfidf)"
   ]
  },
  {
   "cell_type": "code",
   "execution_count": 11,
   "metadata": {},
   "outputs": [],
   "source": [
    "index.num_best = 10"
   ]
  },
  {
   "cell_type": "code",
   "execution_count": 12,
   "metadata": {},
   "outputs": [],
   "source": [
    "query = 'Engine exhaust systems with secondary air injection systems A variety of embodiments of exhaust systems for engines including small off-road engines, and related methods of operation, are disclosed. In at least some embodiments, the exhaust system includes a first conduit that receives exhaust emissions from a first engine cylinder, and a second conduit that communicates air to a first port on the first conduit. The air mixes with the exhaust emissions within the first conduit so as to produce a chemical reaction, and a level of at least one undesirable component of the exhaust emissions is reduced. Further, the exhaust system does not include any catalytic converter. In some embodiments, the exhaust system further comprises a crankcase ventilation system.'"
   ]
  },
  {
   "cell_type": "code",
   "execution_count": 13,
   "metadata": {},
   "outputs": [],
   "source": [
    "query_transform = querytransform(query, nlp)"
   ]
  },
  {
   "cell_type": "code",
   "execution_count": 14,
   "metadata": {},
   "outputs": [
    {
     "data": {
      "text/plain": [
       "'engine exhaust system with secondary air injection system a variety of embodiment of exhaust system for engine include small off road engine and relate method of operation be disclose in at least some embodiment the exhaust system include a first conduit that receive exhaust emission from a first engine cylinder and a second conduit that communicate air to a first port on the first conduit the air mix with the exhaust emission within the first conduit so as to produce a chemical reaction and a level of at least one undesirable component of the exhaust emission be reduce further the exhaust system do not include any catalytic converter in some embodiment the exhaust system further comprise a crankcase ventilation system'"
      ]
     },
     "execution_count": 14,
     "metadata": {},
     "output_type": "execute_result"
    }
   ],
   "source": [
    "query_transform"
   ]
  },
  {
   "cell_type": "code",
   "execution_count": 15,
   "metadata": {},
   "outputs": [],
   "source": [
    "query_tfidf = querydoc2vec(query, term_dict, term_tfidf_model)"
   ]
  },
  {
   "cell_type": "code",
   "execution_count": 16,
   "metadata": {},
   "outputs": [],
   "source": [
    "sims = index[query_tfidf]"
   ]
  },
  {
   "cell_type": "code",
   "execution_count": 17,
   "metadata": {},
   "outputs": [
    {
     "name": "stdout",
     "output_type": "stream",
     "text": [
      "Document \t Score \t Text\n",
      "185 \t\t0.8124 \t Engine exhaust systems with secondary air injection systems A variety of embodiments of exhaust systems for engines including small off-road engines, and related methods of operation, are disclosed. I \n",
      "\n",
      "186 \t\t0.8124 \t Engine exhaust systems with secondary air injection systems A variety of embodiments of exhaust systems for engines including small off-road engines, and related methods of operation, are disclosed. I \n",
      "\n",
      "8049 \t\t0.5084 \t Supercharger-equipped internal combustion engine In a multicylinder internal combustion engine including a turbocharger, the turbocharger employs a twin-entry turbo where a turbine includes two exhaus \n",
      "\n",
      "7245 \t\t0.5044 \t Outboard motor An outboard motor includes an engine, an exhaust passage member, and an idle exhaust passage member. The exhaust passage member defines a main exhaust passage through which exhaust gase \n",
      "\n",
      "24751 \t\t0.5027 \t Dosing and mixing arrangement for use in exhaust aftertreatment A dosing and mixing arrangement including an exhaust conduit defining a central axis; a mixing conduit positioned within the exhaust con \n",
      "\n",
      "28721 \t\t0.4985 \t Heating cooker A casing, a heating chamber that is provided in the casing and that has an opening on a front face thereof, an exhaust tube for guiding exhaust from inside of the heating chamber to fro \n",
      "\n",
      "7988 \t\t0.4984 \t Bi-directional tractor exhaust system A bi-directional tractor exhaust system includes a downwardly directed exhaust pipe connected to an upwardly directed exhaust pipe. An exhaust pipe valve may be m \n",
      "\n",
      "19002 \t\t0.4885 \t Passive exhaust valve assembly and forming method A passive valve assembly for an engine exhaust system includes an exhaust conduit for transferring exhaust gases from the engine and a valve plate tha \n",
      "\n",
      "8071 \t\t0.4732 \t Internal combustion engine and method for operating an internal combustion engine The invention relates to an internal combustion engine with a crankcase and a cylinder head having exhaust ports feedi \n",
      "\n",
      "18990 \t\t0.4641 \t Assembly for purifying exhaust gases The assembly for purification of exhaust gases comprises an upstream conduit and a downstream conduit positioned parallel to each other. A space has an exhaust gas \n",
      "\n"
     ]
    }
   ],
   "source": [
    "queryresults(sims, '../intermediate/titleabstract.txt')"
   ]
  },
  {
   "cell_type": "markdown",
   "metadata": {},
   "source": [
    "#### Similarities from Classification Codes ####"
   ]
  },
  {
   "cell_type": "code",
   "execution_count": 18,
   "metadata": {},
   "outputs": [],
   "source": [
    "# File String Constants\n",
    "CLASSFILE = '../intermediate/classifications_ipc.txt'\n",
    "CLASSDICTFILE = '../models/classifications.dict'\n",
    "CLASSTFIDFMODELFILE = '../models/classifications.tfidf_model'\n",
    "CLASSTFIDFFILE = '../models/classifications_tfidf.mm'"
   ]
  },
  {
   "cell_type": "code",
   "execution_count": 19,
   "metadata": {},
   "outputs": [],
   "source": [
    "cl_dict = corpora.Dictionary.load(CLASSDICTFILE)"
   ]
  },
  {
   "cell_type": "code",
   "execution_count": 20,
   "metadata": {},
   "outputs": [],
   "source": [
    "cl_tfidf_model = models.TfidfModel.load(CLASSTFIDFMODELFILE)"
   ]
  },
  {
   "cell_type": "code",
   "execution_count": 21,
   "metadata": {},
   "outputs": [],
   "source": [
    "cl_tfidf = corpora.MmCorpus(CLASSTFIDFFILE)"
   ]
  },
  {
   "cell_type": "code",
   "execution_count": 22,
   "metadata": {},
   "outputs": [],
   "source": [
    "cl_index = SparseMatrixSimilarity(cl_tfidf)"
   ]
  },
  {
   "cell_type": "code",
   "execution_count": 23,
   "metadata": {},
   "outputs": [],
   "source": [
    "cl_index.num_best = 10"
   ]
  },
  {
   "cell_type": "code",
   "execution_count": 24,
   "metadata": {},
   "outputs": [],
   "source": [
    "query = 'F02B2704 F01N310 F01N322 F01N334'"
   ]
  },
  {
   "cell_type": "code",
   "execution_count": 25,
   "metadata": {},
   "outputs": [],
   "source": [
    "cl_query_tfidf = querydoc2vec(query, cl_dict, cl_tfidf_model)"
   ]
  },
  {
   "cell_type": "code",
   "execution_count": 26,
   "metadata": {},
   "outputs": [],
   "source": [
    "cl_sims = cl_index[cl_query_tfidf]"
   ]
  },
  {
   "cell_type": "code",
   "execution_count": 27,
   "metadata": {},
   "outputs": [
    {
     "data": {
      "text/plain": [
       "[(185, 0.97865521907806396),\n",
       " (186, 0.64456218481063843),\n",
       " (24748, 0.26202374696731567),\n",
       " (24749, 0.17515073716640472),\n",
       " (13956, 0.14913399517536163),\n",
       " (24754, 0.12316439300775528),\n",
       " (24759, 0.12106891721487045),\n",
       " (191, 0.12043361365795135),\n",
       " (24760, 0.12016613036394119),\n",
       " (13954, 0.11993207782506943)]"
      ]
     },
     "execution_count": 27,
     "metadata": {},
     "output_type": "execute_result"
    }
   ],
   "source": [
    "cl_sims"
   ]
  },
  {
   "cell_type": "code",
   "execution_count": 28,
   "metadata": {},
   "outputs": [
    {
     "data": {
      "text/plain": [
       "[(539, 0.37444710185222174),\n",
       " (540, 0.5070368954931458),\n",
       " (541, 0.5294567799737209),\n",
       " (542, 0.5677838256440592)]"
      ]
     },
     "execution_count": 28,
     "metadata": {},
     "output_type": "execute_result"
    }
   ],
   "source": [
    "cl_query_tfidf"
   ]
  },
  {
   "cell_type": "code",
   "execution_count": 29,
   "metadata": {},
   "outputs": [
    {
     "name": "stdout",
     "output_type": "stream",
     "text": [
      "Document \t Score \t Text\n",
      "185 \t\t0.9787 \t Engine exhaust systems with secondary air injection systems A variety of embodiments of exhaust systems for engines including small off-road engines, and related methods of operation, are disclosed. I \n",
      "\n",
      "186 \t\t0.6446 \t Engine exhaust systems with secondary air injection systems A variety of embodiments of exhaust systems for engines including small off-road engines, and related methods of operation, are disclosed. I \n",
      "\n",
      "24748 \t\t0.2620 \t Exhaust gas purification apparatus for internal combustion engine An exhaust gas purification catalyst is recovered from the sulfur poisoning more appropriately. For this purpose, an exhaust gas purif \n",
      "\n",
      "24749 \t\t0.1752 \t Synergistic SCR/DOC configurations for lowering diesel emissions A motor-vehicle engine system comprises a first DOC configured to receive exhaust from an engine and an SCR device coupled downstream o \n",
      "\n",
      "13956 \t\t0.1491 \t System and method for determining selective catalytic reduction dosing system performance using an ammonia sensor A control system for a selective catalytic reduction (SCR system includes a dosing con \n",
      "\n",
      "24754 \t\t0.1232 \t Single sensor monitoring system for multiple after-treatment systems on engines An aftertreatment system comprises a first passageway to receive a first portion and a second passageway to receive a se \n",
      "\n",
      "24759 \t\t0.1211 \t On-board diagnostics system for catalyzed substrate An on-board diagnostics system for an exhaust system of an internal combustion engine is disclosed. The system comprises a catalyzed substrate havin \n",
      "\n",
      "191 \t\t0.1204 \t Exhaust gas control device of internal combustion engine An exhaust gas control device of an internal combustion engine has an exhaust treatment device that purifies an exhaust gas. The exhaust gas co \n",
      "\n",
      "24760 \t\t0.1202 \t Malfunction diagnosis device for exhaust gas purification device of internal combustion engine The invention relates to a malfunction diagnosis device for an exhaust gas purification catalyst of an en \n",
      "\n",
      "13954 \t\t0.1199 \t Systems and techniques for nozzle cooling of diesel exhaust fluid injection systems A system is provided for delivery of diesel exhaust fluid or other reductant to an injector for release into an engi \n",
      "\n"
     ]
    }
   ],
   "source": [
    "queryresults(cl_sims, '../intermediate/titleabstract.txt')"
   ]
  },
  {
   "cell_type": "code",
   "execution_count": 30,
   "metadata": {},
   "outputs": [
    {
     "data": {
      "text/plain": [
       "[(133, 0.46349062363164567),\n",
       " (134, 0.3799624370358977),\n",
       " (135, 0.4131812416020006),\n",
       " (136, 0.2758819544602675),\n",
       " (137, 0.6276745948648087)]"
      ]
     },
     "execution_count": 30,
     "metadata": {},
     "output_type": "execute_result"
    }
   ],
   "source": [
    "cl_tfidf[51]"
   ]
  },
  {
   "cell_type": "code",
   "execution_count": null,
   "metadata": {},
   "outputs": [],
   "source": []
  }
 ],
 "metadata": {
  "kernelspec": {
   "display_name": "Python [conda env:py35]",
   "language": "python",
   "name": "conda-env-py35-py"
  },
  "language_info": {
   "codemirror_mode": {
    "name": "ipython",
    "version": 3
   },
   "file_extension": ".py",
   "mimetype": "text/x-python",
   "name": "python",
   "nbconvert_exporter": "python",
   "pygments_lexer": "ipython3",
   "version": "3.5.4"
  }
 },
 "nbformat": 4,
 "nbformat_minor": 2
}
