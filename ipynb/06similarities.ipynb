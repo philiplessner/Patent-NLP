{
 "cells": [
  {
   "cell_type": "markdown",
   "metadata": {},
   "source": [
    "### Document Similarity Via Various Methods ###"
   ]
  },
  {
   "cell_type": "code",
   "execution_count": 1,
   "metadata": {},
   "outputs": [],
   "source": [
    "import linecache\n",
    "from typing import List, Tuple\n",
    "import spacy\n",
    "import gensim\n",
    "from gensim import corpora, models\n",
    "from gensim.similarities.docsim import SparseMatrixSimilarity, MatrixSimilarity"
   ]
  },
  {
   "cell_type": "markdown",
   "metadata": {},
   "source": [
    "#### Common Code ####"
   ]
  },
  {
   "cell_type": "code",
   "execution_count": 2,
   "metadata": {},
   "outputs": [],
   "source": [
    "def querytransform(query: str, nlp) -> str:\n",
    "    doc = nlp(query)\n",
    "    return ' '.join([token.lemma_ for token in doc if not token.is_punct])"
   ]
  },
  {
   "cell_type": "code",
   "execution_count": 3,
   "metadata": {},
   "outputs": [],
   "source": [
    "def querydoc2tfidf(query: str, \n",
    "                 dictname: gensim.corpora.dictionary.Dictionary, \n",
    "                 model: gensim.models) -> List[Tuple[int, float]]:\n",
    "    return model[dictname.doc2bow(query.split())]"
   ]
  },
  {
   "cell_type": "code",
   "execution_count": 4,
   "metadata": {},
   "outputs": [],
   "source": [
    "def queryresults(sims: List[Tuple[int, float]], source: str) -> None:\n",
    "    print('Document', '\\t', 'Score', '\\t', 'Text')\n",
    "    for doc, score in sims:\n",
    "        print(doc, '\\t\\t{:.4f}'.format(score), '\\t', linecache.getline(source, doc + 1)[0:500], '\\n')"
   ]
  },
  {
   "cell_type": "code",
   "execution_count": 5,
   "metadata": {},
   "outputs": [],
   "source": [
    "# File String Constants\n",
    "TERMDICTFILE = '../models/titleabstract.dict'\n",
    "TERMTFIDFMODELFILE = '../models/titleabstract.tfidf_model'\n",
    "TERMTFIDFFILE = '../models/titleabstract_tfidf.mm'\n",
    "TERMTFIDFSIM = '../models/tfidf_index.sim'\n",
    "DOCSOURCE = '../intermediate/titleabstract.txt'"
   ]
  },
  {
   "cell_type": "code",
   "execution_count": 6,
   "metadata": {},
   "outputs": [],
   "source": [
    "nlp = spacy.load('en')"
   ]
  },
  {
   "cell_type": "code",
   "execution_count": 7,
   "metadata": {},
   "outputs": [],
   "source": [
    "term_dict = corpora.Dictionary.load(TERMDICTFILE)"
   ]
  },
  {
   "cell_type": "markdown",
   "metadata": {},
   "source": [
    "#### Similarities from Tf-Idf Vectors ####"
   ]
  },
  {
   "cell_type": "code",
   "execution_count": 8,
   "metadata": {},
   "outputs": [],
   "source": [
    "term_tfidf_model = models.TfidfModel.load(TERMTFIDFMODELFILE)"
   ]
  },
  {
   "cell_type": "code",
   "execution_count": 9,
   "metadata": {},
   "outputs": [],
   "source": [
    "# Uncomment when new TF-IDF vectors are generated for corpus and similarities need to be recomputed \n",
    "#tfidf_index = SparseMatrixSimilarity(corpora.MmCorpus(TERMTFIDFFILE))\n",
    "# Uncomment when new TF-IDF vectors are generated for corpus and similarities need to be saved\n",
    "#tfidf_index.save('../models/tfidf_index.sim')"
   ]
  },
  {
   "cell_type": "code",
   "execution_count": 10,
   "metadata": {},
   "outputs": [],
   "source": [
    "tfidf_index = SparseMatrixSimilarity.load(TERMTFIDFSIM)"
   ]
  },
  {
   "cell_type": "code",
   "execution_count": 26,
   "metadata": {},
   "outputs": [],
   "source": [
    "tfidf_index.num_best = 15"
   ]
  },
  {
   "cell_type": "code",
   "execution_count": 12,
   "metadata": {},
   "outputs": [],
   "source": [
    "query = 'multilayer ceramic capacitor'"
   ]
  },
  {
   "cell_type": "code",
   "execution_count": 13,
   "metadata": {},
   "outputs": [],
   "source": [
    "query_transform = querytransform(query, nlp)"
   ]
  },
  {
   "cell_type": "code",
   "execution_count": 14,
   "metadata": {},
   "outputs": [
    {
     "data": {
      "text/plain": [
       "'multilayer ceramic capacitor'"
      ]
     },
     "execution_count": 14,
     "metadata": {},
     "output_type": "execute_result"
    }
   ],
   "source": [
    "query_transform"
   ]
  },
  {
   "cell_type": "code",
   "execution_count": 27,
   "metadata": {},
   "outputs": [],
   "source": [
    "tfidf_sims = tfidf_index[querydoc2tfidf(query_transform, term_dict, term_tfidf_model)]"
   ]
  },
  {
   "cell_type": "code",
   "execution_count": 28,
   "metadata": {},
   "outputs": [
    {
     "name": "stdout",
     "output_type": "stream",
     "text": [
      "Document \t Score \t Text\n",
      "157897 \t\t0.7281 \t Method of identifying direction of multilayer ceramic capacitor, apparatus identifying direction of multilayer ceramic capacitor, and method of manufacturing multilayer ceramic capacitor A method of identifying a direction of a multilayer ceramic capacitor includes the steps of transporting a plurality of multilayer ceramic capacitors in one line before each of a magnetism generator and a magnetic flux density measurement instrument, measuring a magnetic flux density with the magnetic flux densi \n",
      "\n",
      "235131 \t\t0.7108 \t Multilayer ceramic capacitor having terminal electrodes and board having the same A multilayer ceramic capacitor and a board having the same are provided. The multilayer ceramic capacitor includes a ceramic body including internal electrodes and having lead-out portions exposed to end surfaces thereof, and external electrodes disposed on portions of the end surfaces of the ceramic body to be connected to the lead-out portions of the internal electrodes, terminal electrodes coupled to both end po \n",
      "\n",
      "324820 \t\t0.6957 \t Multilayer ceramic capacitor and board having the same A multilayer ceramic capacitor (MLCC includes first and second metal frames formed on a mounting surface of a ceramic body to be connected to first and second external electrodes providing voltages having opposing polarities, respectively, wherein the first and second metal frames are positioned inwardly of both end surfaces of the ceramic body in a length direction of the ceramic body to be spaced apart from both end surfaces of the ceramic \n",
      "\n",
      "57383 \t\t0.6957 \t Multilayer ceramic capacitor and board having the same A multilayer ceramic capacitor (MLCC includes first and second metal frames formed on a mounting surface of a ceramic body to be connected to first and second external electrodes providing voltages having opposing polarities, respectively, wherein the first and second metal frames are positioned inwardly of both end surfaces of the ceramic body in a length direction of the ceramic body to be spaced apart from both end surfaces of the ceramic \n",
      "\n",
      "293528 \t\t0.6859 \t Multilayer electronic component A multilayer electronic component includes a ceramic body including a plurality of dielectric layers, a plurality of capacitor parts disposed in the ceramic body, including a plurality of internal electrodes alternately exposed to both end surfaces of the ceramic body in a length direction of the ceramic body, and having different capacitances, and first and second external electrodes formed on both end surfaces of the ceramic body in the length direction of the c \n",
      "\n",
      "88742 \t\t0.6859 \t Multilayer electronic component A multilayer electronic component includes a ceramic body including a plurality of dielectric layers, a plurality of capacitor parts disposed in the ceramic body, including a plurality of internal electrodes alternately exposed to both end surfaces of the ceramic body in a length direction of the ceramic body, and having different capacitances, and first and second external electrodes formed on both end surfaces of the ceramic body in the length direction of the c \n",
      "\n",
      "237096 \t\t0.6805 \t Multilayer ceramic capacitor and board for mounting of the same A multilayer ceramic capacitor may include three external electrodes disposed on a mounting surface of a ceramic body and spaced apart from each other, and first and second lead-out portions extended from a first internal electrode so as to be exposed through the mounting surface of the ceramic body and spaced apart from each other in a length direction of the ceramic body have one or more space portions, respectively, and a board f \n",
      "\n",
      "210888 \t\t0.6805 \t Multilayer ceramic capacitor and board for mounting of the same A multilayer ceramic capacitor may include three external electrodes disposed on a mounting surface of a ceramic body and spaced apart from each other, and first and second lead-out portions extended from a first internal electrode so as to be exposed through the mounting surface of the ceramic body and spaced apart from each other in a length direction of the ceramic body have one or more space portions, respectively, and a board f \n",
      "\n",
      "362320 \t\t0.6801 \t Multilayer ceramic capacitor and board for mounting of the same A multilayer ceramic capacitor may include a ceramic body including a plurality of dielectric layers; a first internal electrode disposed in the ceramic body and exposed to a first side surface in a width direction of the ceramic body and a second internal electrode disposed in the ceramic body and exposed to the first side surface in the width direction of the ceramic body; and first to third external electrodes disposed on the fir \n",
      "\n",
      "19721 \t\t0.6801 \t Multilayer ceramic capacitor and board for mounting of the same A multilayer ceramic capacitor may include a ceramic body including a plurality of dielectric layers; a first internal electrode disposed in the ceramic body and exposed to a first side surface in a width direction of the ceramic body and a second internal electrode disposed in the ceramic body and exposed to the first side surface in the width direction of the ceramic body; and first to third external electrodes disposed on the fir \n",
      "\n",
      "222097 \t\t0.6801 \t Multilayer ceramic capacitor and board for mounting of the same A multilayer ceramic capacitor may include a ceramic body including a plurality of dielectric layers; a first internal electrode disposed in the ceramic body and exposed to a first side surface in a width direction of the ceramic body and a second internal electrode disposed in the ceramic body and exposed to the first side surface in the width direction of the ceramic body; and first to third external electrodes disposed on the fir \n",
      "\n",
      "84140 \t\t0.6744 \t Multilayer ceramic capacitor and board having the same A multilayer ceramic capacitor and a board having the same are provided. The multilayer ceramic capacitor includes a ceramic body including internal electrodes having lead-out portions formed on ends thereof, and external electrodes disposed on portions of end surfaces of the ceramic body to be connected to the lead-out portions, and terminal electrodes coupled to both end portions of the ceramic body and including horizontal portions dispos \n",
      "\n",
      "300748 \t\t0.6744 \t Multilayer ceramic capacitor and board having the same A multilayer ceramic capacitor and a board having the same are provided. The multilayer ceramic capacitor includes a ceramic body including internal electrodes having lead-out portions formed on ends thereof, and external electrodes disposed on portions of end surfaces of the ceramic body to be connected to the lead-out portions, and terminal electrodes coupled to both end portions of the ceramic body and including horizontal portions dispos \n",
      "\n",
      "177776 \t\t0.6703 \t Multilayer ceramic electronic component and manufacturing method thereof There are provided a multilayer ceramic electronic component capable of preventing problems occurring due to a difference in sintering behavior between ceramic layers and internal electrodes and having excellent reliability, and a manufacturing method thereof. The multilayer ceramic electronic component may include a ceramic body including a plurality of ceramic layers; and internal electrodes disposed in the ceramic body.  \n",
      "\n",
      "128039 \t\t0.6664 \t Multilayer ceramic capacitor and board for mounting thereof A multilayer ceramic capacitor may include three external electrodes disposed on a mounting surface of a ceramic body so as to be spaced apart from each other. When a height of at least one portion of the external electrode formed on one side surface of the ceramic body in a width direction is defined as d, and a thickness of the ceramic body is defined as T, a ratio of d/T satisfies . d/T.\n",
      " \n",
      "\n"
     ]
    }
   ],
   "source": [
    "queryresults(tfidf_sims, DOCSOURCE)"
   ]
  },
  {
   "cell_type": "markdown",
   "metadata": {},
   "source": [
    "#### Similarities for LSI Vectors ####"
   ]
  },
  {
   "cell_type": "code",
   "execution_count": 17,
   "metadata": {},
   "outputs": [],
   "source": [
    "# File String Constants\n",
    "TERMLSIMODELFILE = '../models/titleabstract.lsi_model'\n",
    "TERMLSIFILE = '../models/titleabstract_lsi.mm'\n",
    "TERMLSISIM = '../models/lsi_index.sim'"
   ]
  },
  {
   "cell_type": "code",
   "execution_count": 18,
   "metadata": {},
   "outputs": [],
   "source": [
    "term_lsi_model = models.LsiModel.load(TERMLSIMODELFILE)"
   ]
  },
  {
   "cell_type": "code",
   "execution_count": 19,
   "metadata": {},
   "outputs": [],
   "source": [
    "# Uncomment when new LSI vectors are generated from corpus and similarities need to be recomputed\n",
    "#term_tfidf = corpora.MmCorpus(TERMTFIDFFILE)\n",
    "#lsi_index = MatrixSimilarity(term_lsi_model[term_tfidf])\n",
    "# Uncomment when new LSI vectors are generated from corpus and similarities need to be saved\n",
    "#lsi_index.save('../models/lsi_index.sim')"
   ]
  },
  {
   "cell_type": "code",
   "execution_count": 20,
   "metadata": {},
   "outputs": [],
   "source": [
    "lsi_index = MatrixSimilarity.load(TERMLSISIM)"
   ]
  },
  {
   "cell_type": "code",
   "execution_count": 32,
   "metadata": {},
   "outputs": [],
   "source": [
    "lsi_index.num_best = 15"
   ]
  },
  {
   "cell_type": "code",
   "execution_count": 33,
   "metadata": {},
   "outputs": [],
   "source": [
    "lsi_sims = lsi_index[querydoc2tfidf(query_transform, term_dict, term_lsi_model)]"
   ]
  },
  {
   "cell_type": "code",
   "execution_count": 34,
   "metadata": {},
   "outputs": [
    {
     "name": "stdout",
     "output_type": "stream",
     "text": [
      "Document \t Score \t Text\n",
      "190753 \t\t0.3243 \t Removing faults from a self-healing film capacitor A method for treating a capacitor for healing faults therein includes applying a voltage between a first electrode and a second electrode of the capacitor to charge the capacitor at a start pressure; and pressurizing a non-conductive fluid surrounding the capacitor to a target pressure while the voltage is applied.\n",
      " \n",
      "\n",
      "284322 \t\t0.3046 \t Multilayer ceramic capacitor having a moisture resistant protective film Disclosed herein is a multilayer ceramic capacitor including a ceramic body in which internal electrodes and dielectric layers are alternately stacked; a pair of external electrodes covering both end portions of the ceramic body; and a moisture resistant protective film formed on surfaces of the dielectric layers between the pair of external electrodes and having a hydrophobic functional group.\n",
      " \n",
      "\n",
      "92648 \t\t0.3046 \t Multilayer ceramic capacitor having a moisture resistant protective film Disclosed herein is a multilayer ceramic capacitor including a ceramic body in which internal electrodes and dielectric layers are alternately stacked; a pair of external electrodes covering both end portions of the ceramic body; and a moisture resistant protective film formed on surfaces of the dielectric layers between the pair of external electrodes and having a hydrophobic functional group.\n",
      " \n",
      "\n",
      "134627 \t\t0.2987 \t Polymeric monolithic capacitor Prismatic polymer monolithic capacitor structure operating at temperatures exceeding C. and including multiple interleaving radiation-cured polymer dielectric layers and metal layers. Method for fabrication of same. The geometry of structure is judiciously chosen to increase sheet resistance of metal electrodes while reducing the capacitor's equivalent series resistance. Metal electrode layers are provided with a thickened peripheral portion to increase strength of \n",
      "\n",
      "222100 \t\t0.2928 \t Electrolytic capacitor for use in a charge/discharge circuit with shorter period and greater voltage difference An electrolytic capacitor according to the present invention employs a capacitor element wherein an anode foil having an anode internal terminal and a cathode foil having a cathode internal terminal are wound or laminated through a separator. The end of the anode foil faces with the cathode foil through the separator and the surface area of the cathode internal terminal is provided wit \n",
      "\n",
      "199458 \t\t0.2926 \t Insulated landing door of an elevator The object of the invention is an insulated landing door of an elevator, which door comprises at least one door panel that opens and closes in the lateral direction and is provided with a glass surface plate, which door panel comprises a frame structure supporting the door panel and an edge beading on the front edge of the door panel and an insulation element. The insulation element is composed of one or more glass plates, and that there is an air gap betwee \n",
      "\n",
      "213046 \t\t0.2899 \t Door barricade A door barricade is provided. The door barricade includes a metal plate having a substantially planar inside surface and outside surface. The metal plate includes at least one receiving flange protruding from at least one of the inside surface and the outside surface. A sign with indicia is releasably retained within the receiving flange. The metal plate is secured to a door, thereby preventing burglars from entering.\n",
      " \n",
      "\n",
      "137680 \t\t0.2892 \t Transparent laminated glass and use thereof A transparent laminated glass is described. The transparent laminated glass can comprise a transparent outer pane, at least one polymer layer, and a transparent inner pane. Uses of the transparent laminated glass are also described.\n",
      " \n",
      "\n",
      "137770 \t\t0.2892 \t Transparent laminated glass and use thereof A transparent laminated glass is described. The transparent laminated glass can comprise a transparent outer pane, at least one polymer layer, and a transparent inner pane. Uses of the transparent laminated glass are also described.\n",
      " \n",
      "\n",
      "362893 \t\t0.2872 \t ESD protection device An ESD protection device of the present disclosure includes a ceramic multilayer structure inside which a cavity portion is formed, at least one pair of discharge electrodes arranged inside the ceramic multilayer structure, and outer electrodes formed on the surface of the ceramic multilayer structure and connected to the discharge electrodes, wherein the pair of discharge electrodes are arranged in such a way that one end-face of one discharge electrode and one end-face of \n",
      "\n",
      "20294 \t\t0.2872 \t ESD protection device An ESD protection device of the present disclosure includes a ceramic multilayer structure inside which a cavity portion is formed, at least one pair of discharge electrodes arranged inside the ceramic multilayer structure, and outer electrodes formed on the surface of the ceramic multilayer structure and connected to the discharge electrodes, wherein the pair of discharge electrodes are arranged in such a way that one end-face of one discharge electrode and one end-face of \n",
      "\n",
      "215398 \t\t0.2870 \t Monolithic capacitor A monolithic capacitor includes a multilayer body including a plurality of stacked dielectric layers, first and second capacitor electrodes inside the multilayer body, and outer electrodes on at least one surface of the multilayer body. The first and second capacitor electrodes are arranged perpendicularly or substantially perpendicularly to first and second surfaces of the multilayer body. The first capacitor electrode includes a capacitor portion opposed to the second capa \n",
      "\n",
      "340591 \t\t0.2864 \t Method of manufacturing door for vehicle A method of manufacturing a door for a vehicle includes molding a door inner panel using a polymer composite; molding a door frame assembly using an aluminum alloy or a steel alloy, the door frame assembly defining a space to be opened or closed by a door glass; molding a door outer panel using an aluminum alloy or a steel alloy; molding an impact beam using an aluminum alloy or a steel alloy, the impact beam serving to increase rigidity of a side surface \n",
      "\n",
      "35252 \t\t0.2864 \t Method of manufacturing door for vehicle A method of manufacturing a door for a vehicle includes molding a door inner panel using a polymer composite; molding a door frame assembly using an aluminum alloy or a steel alloy, the door frame assembly defining a space to be opened or closed by a door glass; molding a door outer panel using an aluminum alloy or a steel alloy; molding an impact beam using an aluminum alloy or a steel alloy, the impact beam serving to increase rigidity of a side surface \n",
      "\n",
      "131898 \t\t0.2855 \t Method and system for optimizing coke plant operation and output The present technology is generally directed to methods of increasing coke production rates for coke ovens. In some embodiments, a coal charging system includes a false door system with a false door that is vertically oriented to maximize an amount of coal being charged into the oven. A lower extension plate associated with embodiments of the false door is selectively, automatically extended beyond a lower end portion of the false  \n",
      "\n"
     ]
    }
   ],
   "source": [
    "queryresults(lsi_sims, DOCSOURCE)"
   ]
  },
  {
   "cell_type": "markdown",
   "metadata": {},
   "source": [
    "#### Similarities from Classification Codes ####"
   ]
  },
  {
   "cell_type": "code",
   "execution_count": 22,
   "metadata": {},
   "outputs": [],
   "source": [
    "# File String Constants\n",
    "CLASSFILE = '../intermediate/classifications_ipc.txt'\n",
    "CLASSDICTFILE = '../models/classifications.dict'\n",
    "CLASSTFIDFMODELFILE = '../models/classifications.tfidf_model'\n",
    "CLASSTFIDFFILE = '../models/classifications_tfidf.mm'"
   ]
  },
  {
   "cell_type": "code",
   "execution_count": 23,
   "metadata": {},
   "outputs": [],
   "source": [
    "cl_dict = corpora.Dictionary.load(CLASSDICTFILE)"
   ]
  },
  {
   "cell_type": "code",
   "execution_count": 24,
   "metadata": {},
   "outputs": [],
   "source": [
    "cl_tfidf_model = models.TfidfModel.load(CLASSTFIDFMODELFILE)"
   ]
  },
  {
   "cell_type": "code",
   "execution_count": 25,
   "metadata": {},
   "outputs": [],
   "source": [
    "cl_index = SparseMatrixSimilarity(corpora.MmCorpus(CLASSTFIDFFILE))"
   ]
  },
  {
   "cell_type": "code",
   "execution_count": 26,
   "metadata": {},
   "outputs": [],
   "source": [
    "cl_index.num_best = 10"
   ]
  },
  {
   "cell_type": "code",
   "execution_count": 27,
   "metadata": {},
   "outputs": [],
   "source": [
    "cl_query = 'F02B2704 F01N310 F01N322 F01N334'"
   ]
  },
  {
   "cell_type": "code",
   "execution_count": 28,
   "metadata": {},
   "outputs": [],
   "source": [
    "cl_sims = cl_index[querydoc2tfidf(cl_query, cl_dict, cl_tfidf_model)]"
   ]
  },
  {
   "cell_type": "code",
   "execution_count": 29,
   "metadata": {},
   "outputs": [
    {
     "name": "stdout",
     "output_type": "stream",
     "text": [
      "Document \t Score \t Text\n",
      "185 \t\t0.9787 \t Engine exhaust systems with secondary air injection systems A variety of embodiments of exhaust systems for engines including small off-road engines, and related methods of operation, are disclosed. I \n",
      "\n",
      "186 \t\t0.6446 \t Engine exhaust systems with secondary air injection systems A variety of embodiments of exhaust systems for engines including small off-road engines, and related methods of operation, are disclosed. I \n",
      "\n",
      "24748 \t\t0.2620 \t Exhaust gas purification apparatus for internal combustion engine An exhaust gas purification catalyst is recovered from the sulfur poisoning more appropriately. For this purpose, an exhaust gas purif \n",
      "\n",
      "24749 \t\t0.1752 \t Synergistic SCR/DOC configurations for lowering diesel emissions A motor-vehicle engine system comprises a first DOC configured to receive exhaust from an engine and an SCR device coupled downstream o \n",
      "\n",
      "13956 \t\t0.1491 \t System and method for determining selective catalytic reduction dosing system performance using an ammonia sensor A control system for a selective catalytic reduction (SCR system includes a dosing con \n",
      "\n",
      "24754 \t\t0.1232 \t Single sensor monitoring system for multiple after-treatment systems on engines An aftertreatment system comprises a first passageway to receive a first portion and a second passageway to receive a se \n",
      "\n",
      "24759 \t\t0.1211 \t On-board diagnostics system for catalyzed substrate An on-board diagnostics system for an exhaust system of an internal combustion engine is disclosed. The system comprises a catalyzed substrate havin \n",
      "\n",
      "191 \t\t0.1204 \t Exhaust gas control device of internal combustion engine An exhaust gas control device of an internal combustion engine has an exhaust treatment device that purifies an exhaust gas. The exhaust gas co \n",
      "\n",
      "24760 \t\t0.1202 \t Malfunction diagnosis device for exhaust gas purification device of internal combustion engine The invention relates to a malfunction diagnosis device for an exhaust gas purification catalyst of an en \n",
      "\n",
      "13954 \t\t0.1199 \t Systems and techniques for nozzle cooling of diesel exhaust fluid injection systems A system is provided for delivery of diesel exhaust fluid or other reductant to an injector for release into an engi \n",
      "\n"
     ]
    }
   ],
   "source": [
    "queryresults(cl_sims, '../intermediate/titleabstract.txt')"
   ]
  },
  {
   "cell_type": "code",
   "execution_count": 72,
   "metadata": {},
   "outputs": [],
   "source": [
    "lsi_index.num_best = 50"
   ]
  },
  {
   "cell_type": "code",
   "execution_count": 73,
   "metadata": {},
   "outputs": [],
   "source": [
    "lsi_sets =[{d for d, s in s_lsi} for s_lsi in lsi_index]"
   ]
  },
  {
   "cell_type": "code",
   "execution_count": 74,
   "metadata": {},
   "outputs": [],
   "source": [
    "cl_index.num_best = 50"
   ]
  },
  {
   "cell_type": "code",
   "execution_count": 75,
   "metadata": {},
   "outputs": [],
   "source": [
    "cl_sets =[{d for d, s in s_cl} for s_cl in cl_index]"
   ]
  },
  {
   "cell_type": "code",
   "execution_count": 76,
   "metadata": {},
   "outputs": [
    {
     "data": {
      "text/plain": [
       "28808"
      ]
     },
     "execution_count": 76,
     "metadata": {},
     "output_type": "execute_result"
    }
   ],
   "source": [
    "len(lsi_sets)"
   ]
  },
  {
   "cell_type": "code",
   "execution_count": 77,
   "metadata": {},
   "outputs": [
    {
     "data": {
      "text/plain": [
       "82482"
      ]
     },
     "execution_count": 77,
     "metadata": {},
     "output_type": "execute_result"
    }
   ],
   "source": [
    "sum((len(sl & sc) for sl, sc in zip(lsi_sets, cl_sets))) - len(lsi_sets)"
   ]
  },
  {
   "cell_type": "code",
   "execution_count": 78,
   "metadata": {},
   "outputs": [],
   "source": [
    "tfidf_index.num_best = 100"
   ]
  },
  {
   "cell_type": "code",
   "execution_count": 79,
   "metadata": {},
   "outputs": [],
   "source": [
    "tfidf_sets =[{d for d, s in s_tfidf} for s_tfidf in tfidf_index]"
   ]
  },
  {
   "cell_type": "code",
   "execution_count": 80,
   "metadata": {},
   "outputs": [
    {
     "data": {
      "text/plain": [
       "160036"
      ]
     },
     "execution_count": 80,
     "metadata": {},
     "output_type": "execute_result"
    }
   ],
   "source": [
    "sum((len(st & sc) for st, sc in zip(tfidf_sets, cl_sets))) - len(lsi_sets)"
   ]
  },
  {
   "cell_type": "code",
   "execution_count": 30,
   "metadata": {},
   "outputs": [],
   "source": [
    "cl_cnt_index = SparseMatrixSimilarity(corpora.MmCorpus('../models/classifications_corpus.mm'))"
   ]
  },
  {
   "cell_type": "code",
   "execution_count": 31,
   "metadata": {},
   "outputs": [],
   "source": [
    "query_vec = cl_dict.doc2bow(cl_query.split())"
   ]
  },
  {
   "cell_type": "code",
   "execution_count": 32,
   "metadata": {},
   "outputs": [
    {
     "data": {
      "text/plain": [
       "[(539, 1), (540, 1), (541, 1), (542, 1)]"
      ]
     },
     "execution_count": 32,
     "metadata": {},
     "output_type": "execute_result"
    }
   ],
   "source": [
    "query_vec"
   ]
  },
  {
   "cell_type": "code",
   "execution_count": 33,
   "metadata": {},
   "outputs": [],
   "source": [
    "cl_cnt_index.num_best = 10"
   ]
  },
  {
   "cell_type": "code",
   "execution_count": 34,
   "metadata": {},
   "outputs": [],
   "source": [
    "cl_cnt_sims =cl_cnt_index[query_vec]"
   ]
  },
  {
   "cell_type": "code",
   "execution_count": 35,
   "metadata": {},
   "outputs": [
    {
     "data": {
      "text/plain": [
       "[(185, 1.0),\n",
       " (186, 0.75),\n",
       " (24749, 0.28867512941360474),\n",
       " (24759, 0.25),\n",
       " (13956, 0.25),\n",
       " (24760, 0.22360679507255554),\n",
       " (24754, 0.22360679507255554),\n",
       " (13954, 0.22360679507255554),\n",
       " (189, 0.22360679507255554),\n",
       " (8000, 0.20412415266036987)]"
      ]
     },
     "execution_count": 35,
     "metadata": {},
     "output_type": "execute_result"
    }
   ],
   "source": [
    "cl_cnt_sims"
   ]
  }
 ],
 "metadata": {
  "kernelspec": {
   "display_name": "Python 3",
   "language": "python",
   "name": "conda-env-py35-py"
  },
  "language_info": {
   "codemirror_mode": {
    "name": "ipython",
    "version": 3
   },
   "file_extension": ".py",
   "mimetype": "text/x-python",
   "name": "python",
   "nbconvert_exporter": "python",
   "pygments_lexer": "ipython3",
   "version": "3.5.4"
  }
 },
 "nbformat": 4,
 "nbformat_minor": 2
}
