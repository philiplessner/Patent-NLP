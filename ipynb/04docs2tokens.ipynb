{
 "cells": [
  {
   "cell_type": "code",
   "execution_count": 1,
   "metadata": {
    "collapsed": true
   },
   "outputs": [],
   "source": [
    "import multiprocessing\n",
    "from typing import Iterator\n",
    "import spacy\n",
    "import smart_open"
   ]
  },
  {
   "cell_type": "code",
   "execution_count": 2,
   "metadata": {
    "collapsed": true
   },
   "outputs": [],
   "source": [
    "nlp = spacy.load('en_core_web_sm')"
   ]
  },
  {
   "cell_type": "code",
   "execution_count": 8,
   "metadata": {
    "collapsed": true
   },
   "outputs": [],
   "source": [
    "# File String Constants\n",
    "INPUTFILE = 's3://pto-us-data/text-data/titleabstract02.txt'\n",
    "OUTPUTFILE = 's3://pto-us-data/text-data/titleabstract_tokens02.txt'\n",
    "UNISENT = '/Volumes/Lexar/plaintext/titleabstract_uni_sent.txt'"
   ]
  },
  {
   "cell_type": "code",
   "execution_count": 9,
   "metadata": {
    "collapsed": true
   },
   "outputs": [],
   "source": [
    "def get_doc(infile: str) -> Iterator[str]:\n",
    "    '''Yield new line terminated strings with newlines stripped\n",
    "    Parameters\n",
    "        infile: full path string to file containing strings\n",
    "    Returns\n",
    "        each string with newline stripped\n",
    "    '''\n",
    "    with smart_open.smart_open(infile) as inf:\n",
    "        for line in inf:\n",
    "            yield line.decode('utf-8').strip()"
   ]
  },
  {
   "cell_type": "code",
   "execution_count": 10,
   "metadata": {
    "collapsed": true
   },
   "outputs": [],
   "source": [
    "def doc2tokens(infile: str) -> Iterator[str]:\n",
    "    '''Lemantize and remove punctuation from strings (documents)\n",
    "    Parameters\n",
    "        infile: full string path to file with newline terminated strings\n",
    "    Returns\n",
    "        an iterator of lematized strings with punctuation removed\n",
    "\n",
    "    '''\n",
    "    for doc in nlp.pipe(get_doc(infile),\n",
    "                        batch_size=1000,\n",
    "                        n_threads=multiprocessing.cpu_count()):\n",
    "        yield ' '.join((token.lemma_\n",
    "                        for token in doc\n",
    "                        if not token.is_punct))"
   ]
  },
  {
   "cell_type": "code",
   "execution_count": 11,
   "metadata": {
    "collapsed": true
   },
   "outputs": [],
   "source": [
    "def doctokens2file(infile: str, outfile: str) -> str:\n",
    "    '''Write lematized strings (documents) with punctuation removed\n",
    "    to file. Each document is a newline separated string.\n",
    "    Parameters\n",
    "        infile: full string path to original strings\n",
    "        outfile: full string path to file to write processed strings\n",
    "    Returns\n",
    "        outfile: full string path to file with processed strings\n",
    "    '''\n",
    "    with smart_open.smart_open(outfile, 'wb') as outf:\n",
    "        for tokens in doc2tokens(infile):\n",
    "            outf.write(tokens.encode('utf-8') + '\\n'.encode('utf-8'))\n",
    "    return outfile"
   ]
  },
  {
   "cell_type": "code",
   "execution_count": 12,
   "metadata": {
    "collapsed": false
   },
   "outputs": [
    {
     "data": {
      "text/plain": [
       "'s3://pto-us-data/text-data/titleabstract_tokens02.txt'"
      ]
     },
     "execution_count": 12,
     "metadata": {},
     "output_type": "execute_result"
    }
   ],
   "source": [
    "doctokens2file(INPUTFILE, OUTPUTFILE)"
   ]
  },
  {
   "cell_type": "code",
   "execution_count": 8,
   "metadata": {
    "collapsed": true
   },
   "outputs": [],
   "source": [
    "def process_sentence(infile: str) -> Iterator[str]:\n",
    "    ''' Split a newline terminated string(document) into sentences using spacy\n",
    "    Parameters\n",
    "        infile: text file containing newline terminated strings\n",
    "    Returns\n",
    "        Iterator of lematized newline terminated sentences\n",
    "\n",
    "    '''\n",
    "    for doc in nlp.pipe(get_doc(infile),\n",
    "                        batch_size=10000,\n",
    "                        n_threads=multiprocessing.cpu_count()):\n",
    "        for sent in doc.sents:\n",
    "            yield ' '.join((token.lemma_\n",
    "                            for token in sent\n",
    "                            if not token.is_punct)) + '\\n'"
   ]
  },
  {
   "cell_type": "code",
   "execution_count": 9,
   "metadata": {
    "collapsed": true
   },
   "outputs": [],
   "source": [
    "def senttokens2file(infile: str, outfile: str) -> str:\n",
    "    '''Write sentences to a file. These are unigram sentences\n",
    "       used for further processing.\n",
    "    Parameters\n",
    "        infile: text file containing newline terminated document strings\n",
    "        outfile: text file containing newline terminated sentence strings\n",
    "    Returns\n",
    "        outfile: string full path of outfile to pass through\n",
    "    '''\n",
    "    with open(outfile, 'w', encoding='utf-8') as outf:\n",
    "        for sentence in process_sentence(infile):\n",
    "            outf.write(sentence)\n",
    "    return outfile"
   ]
  },
  {
   "cell_type": "code",
   "execution_count": 10,
   "metadata": {
    "collapsed": false
   },
   "outputs": [
    {
     "data": {
      "text/plain": [
       "'/Volumes/Lexar/plaintext/titleabstract_uni_sent.txt'"
      ]
     },
     "execution_count": 10,
     "metadata": {},
     "output_type": "execute_result"
    }
   ],
   "source": [
    "senttokens2file(INPUTFILE, UNISENT)"
   ]
  },
  {
   "cell_type": "code",
   "execution_count": null,
   "metadata": {
    "collapsed": true
   },
   "outputs": [],
   "source": []
  }
 ],
 "metadata": {
  "kernelspec": {
   "display_name": "Environment (py35)",
   "language": "",
   "name": "py35"
  },
  "language_info": {
   "codemirror_mode": {
    "name": "ipython",
    "version": 3
   },
   "file_extension": ".py",
   "mimetype": "text/x-python",
   "name": "python",
   "nbconvert_exporter": "python",
   "pygments_lexer": "ipython3",
   "version": "3.5.2"
  }
 },
 "nbformat": 4,
 "nbformat_minor": 2
}
