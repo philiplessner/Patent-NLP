{
 "cells": [
  {
   "cell_type": "code",
   "execution_count": 1,
   "metadata": {},
   "outputs": [],
   "source": [
    "import multiprocessing\n",
    "from typing import Iterator\n",
    "import spacy"
   ]
  },
  {
   "cell_type": "code",
   "execution_count": 2,
   "metadata": {},
   "outputs": [],
   "source": [
    "nlp = spacy.load('en')"
   ]
  },
  {
   "cell_type": "code",
   "execution_count": 3,
   "metadata": {},
   "outputs": [],
   "source": [
    "# String Constants\n",
    "INPUTFILE = '/Volumes/Lexar/plaintext/titleabstract.txt'\n",
    "OUTPUTFILE = '/Volumes/Lexar/plaintext/titleabstract_tokens.txt'\n",
    "UNISENT = '/Volumes/Lexar/plaintext/titleabstract_uni_sent.txt'"
   ]
  },
  {
   "cell_type": "code",
   "execution_count": 4,
   "metadata": {},
   "outputs": [],
   "source": [
    "def get_doc(infile: str) -> Iterator[str]:\n",
    "    '''Yield new line terminated strings with newlines stripped\n",
    "    Parameters\n",
    "        infile: full path string to file containing strings\n",
    "    Returns\n",
    "        each string with newline stripped\n",
    "    '''\n",
    "    with open(infile, 'r', encoding='utf-8') as inf:\n",
    "        for line in inf:\n",
    "            yield line.strip()"
   ]
  },
  {
   "cell_type": "code",
   "execution_count": 5,
   "metadata": {},
   "outputs": [],
   "source": [
    "def doc2tokens(infile: str) -> Iterator[str]:\n",
    "    '''Lemantize and remove punctuation from strings (documents)\n",
    "    Parameters\n",
    "        infile: full string path to file with newline terminated strings\n",
    "    Returns\n",
    "        an iterator of lematized strings with punctuation removed\n",
    "\n",
    "    '''\n",
    "    for doc in nlp.pipe(get_doc(infile),\n",
    "                        batch_size=10000,\n",
    "                        n_threads=multiprocessing.cpu_count()):\n",
    "        yield ' '.join((token.lemma_\n",
    "                        for token in doc\n",
    "                        if not token.is_punct))"
   ]
  },
  {
   "cell_type": "code",
   "execution_count": 6,
   "metadata": {},
   "outputs": [],
   "source": [
    "def doctokens2file(infile: str, outfile: str) -> str:\n",
    "    '''Write lematized strings (documents) with punctuation removed\n",
    "    to file. Each document is a newline separated string.\n",
    "    Parameters\n",
    "        infile: full string path to original strings\n",
    "        outfile: full string path to file to write processed strings\n",
    "    Returns\n",
    "        outfile: full string path to file with processed strings\n",
    "    '''\n",
    "    with open(outfile, 'w', encoding='utf-8') as outf:\n",
    "        for tokens in doc2tokens(infile):\n",
    "            outf.write(tokens + '\\n')\n",
    "    return outfile"
   ]
  },
  {
   "cell_type": "code",
   "execution_count": 7,
   "metadata": {},
   "outputs": [
    {
     "data": {
      "text/plain": [
       "'/Volumes/Lexar/plaintext/titleabstract_tokens.txt'"
      ]
     },
     "execution_count": 7,
     "metadata": {},
     "output_type": "execute_result"
    }
   ],
   "source": [
    "doctokens2file(INPUTFILE, OUTPUTFILE)"
   ]
  },
  {
   "cell_type": "code",
   "execution_count": 8,
   "metadata": {},
   "outputs": [],
   "source": [
    "def process_sentence(infile: str) -> Iterator[str]:\n",
    "    ''' Split a newline terminated string(document) into sentences using spacy\n",
    "    Parameters\n",
    "        infile: text file containing newline terminated strings\n",
    "    Returns\n",
    "        Iterator of lematized newline terminated sentences\n",
    "\n",
    "    '''\n",
    "    for doc in nlp.pipe(get_doc(infile),\n",
    "                        batch_size=10000,\n",
    "                        n_threads=multiprocessing.cpu_count()):\n",
    "        for sent in doc.sents:\n",
    "            yield ' '.join((token.lemma_\n",
    "                            for token in sent\n",
    "                            if not token.is_punct)) + '\\n'"
   ]
  },
  {
   "cell_type": "code",
   "execution_count": 9,
   "metadata": {},
   "outputs": [],
   "source": [
    "def senttokens2file(infile: str, outfile: str) -> str:\n",
    "    '''Write sentences to a file. These are unigram sentences\n",
    "       used for further processing.\n",
    "    Parameters\n",
    "        infile: text file containing newline terminated document strings\n",
    "        outfile: text file containing newline terminated sentence strings\n",
    "    Returns\n",
    "        outfile: string full path of outfile to pass through\n",
    "    '''\n",
    "    with open(outfile, 'w', encoding='utf-8') as outf:\n",
    "        for sentence in process_sentence(infile):\n",
    "            outf.write(sentence)\n",
    "    return outfile"
   ]
  },
  {
   "cell_type": "code",
   "execution_count": 10,
   "metadata": {},
   "outputs": [
    {
     "data": {
      "text/plain": [
       "'/Volumes/Lexar/plaintext/titleabstract_uni_sent.txt'"
      ]
     },
     "execution_count": 10,
     "metadata": {},
     "output_type": "execute_result"
    }
   ],
   "source": [
    "senttokens2file(INPUTFILE, UNISENT)"
   ]
  },
  {
   "cell_type": "code",
   "execution_count": null,
   "metadata": {},
   "outputs": [],
   "source": []
  }
 ],
 "metadata": {
  "kernelspec": {
   "display_name": "Python 3",
   "language": "python",
   "name": "conda-env-py35-py"
  },
  "language_info": {
   "codemirror_mode": {
    "name": "ipython",
    "version": 3
   },
   "file_extension": ".py",
   "mimetype": "text/x-python",
   "name": "python",
   "nbconvert_exporter": "python",
   "pygments_lexer": "ipython3",
   "version": "3.5.4"
  }
 },
 "nbformat": 4,
 "nbformat_minor": 2
}
