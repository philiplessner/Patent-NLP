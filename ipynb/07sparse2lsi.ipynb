{
 "cells": [
  {
   "cell_type": "code",
   "execution_count": 1,
   "metadata": {},
   "outputs": [
    {
     "name": "stderr",
     "output_type": "stream",
     "text": [
      "/Users/dpmlto1/miniconda3/envs/py35/lib/python3.5/site-packages/matplotlib/__init__.py:800: MatplotlibDeprecationWarning: axes.color_cycle is deprecated and replaced with axes.prop_cycle; please use the latter.\n",
      "  mplDeprecation)\n"
     ]
    }
   ],
   "source": [
    "from typing import List, Tuple\n",
    "import numpy as np\n",
    "import matplotlib.pyplot as plt\n",
    "import gensim\n",
    "from gensim import corpora, models"
   ]
  },
  {
   "cell_type": "code",
   "execution_count": 2,
   "metadata": {},
   "outputs": [],
   "source": [
    "%matplotlib inline"
   ]
  },
  {
   "cell_type": "code",
   "execution_count": 3,
   "metadata": {},
   "outputs": [],
   "source": [
    "def save_corpus(filename: str, vecs, dictname: gensim.corpora.dictionary.Dictionary) -> None:\n",
    "    '''Save a corpus of vectors in Matrix Market format\n",
    "    Parameters\n",
    "        filename: full path to file to save\n",
    "        vecs: corpus to save\n",
    "        dictname: gensim dictionary with id, word pairs\n",
    "    '''\n",
    "    corpora.MmCorpus.serialize(filename, vecs, id2word=dictname)"
   ]
  },
  {
   "cell_type": "code",
   "execution_count": 4,
   "metadata": {},
   "outputs": [],
   "source": [
    "# File String Constants\n",
    "TERMDICTFILE = '../models/titleabstract.dict'\n",
    "TERMTFIDFMODELFILE = '../models/titleabstract.tfidf_model'\n",
    "TERMTFIDFFILE = '../models/titleabstract_tfidf.mm'\n",
    "TERMLSIMODELFILE = '../models/titleabstract.lsi_model'\n",
    "TERMLSIFILE = '../models/titleabstract_lsi.mm'"
   ]
  },
  {
   "cell_type": "code",
   "execution_count": 5,
   "metadata": {},
   "outputs": [],
   "source": [
    "term_dict = corpora.Dictionary.load(TERMDICTFILE)"
   ]
  },
  {
   "cell_type": "code",
   "execution_count": 6,
   "metadata": {},
   "outputs": [],
   "source": [
    "term_tfidf = corpora.MmCorpus(TERMTFIDFFILE)"
   ]
  },
  {
   "cell_type": "code",
   "execution_count": 7,
   "metadata": {},
   "outputs": [],
   "source": [
    "lsi_model = models.LsiModel(term_tfidf, id2word=term_dict, num_topics=200)"
   ]
  },
  {
   "cell_type": "code",
   "execution_count": 8,
   "metadata": {},
   "outputs": [],
   "source": [
    "lsi_model.save(TERMLSIMODELFILE)"
   ]
  },
  {
   "cell_type": "code",
   "execution_count": 9,
   "metadata": {},
   "outputs": [],
   "source": [
    "term_lsi = lsi_model[term_tfidf]"
   ]
  },
  {
   "cell_type": "code",
   "execution_count": 10,
   "metadata": {},
   "outputs": [],
   "source": [
    "save_corpus(TERMLSIFILE, term_lsi, term_dict)"
   ]
  },
  {
   "cell_type": "code",
   "execution_count": 11,
   "metadata": {},
   "outputs": [],
   "source": [
    "V = gensim.matutils.corpus2dense(term_lsi, len(lsi_model.projection.s)).T / lsi_model.projection.s"
   ]
  },
  {
   "cell_type": "code",
   "execution_count": 12,
   "metadata": {},
   "outputs": [
    {
     "data": {
      "text/plain": [
       "array([[  2.72851153e-03,   2.03328100e-04,   3.15455023e-03, ...,\n",
       "         -3.49938994e-03,   2.80776454e-03,  -5.27269447e-06],\n",
       "       [  3.52258572e-03,  -3.47573068e-03,   7.01807834e-03, ...,\n",
       "          4.25525672e-03,  -5.52874735e-03,   3.87331683e-03],\n",
       "       [  4.49728808e-03,  -8.68520479e-03,   9.86235066e-04, ...,\n",
       "          4.47998994e-03,   4.64590528e-03,   2.86301889e-04],\n",
       "       ..., \n",
       "       [  2.96197546e-03,  -2.19180664e-03,   1.95195178e-03, ...,\n",
       "         -9.09499052e-05,  -1.90450329e-03,  -3.74261542e-03],\n",
       "       [  1.01092678e-02,  -2.11808344e-02,  -5.44329422e-03, ...,\n",
       "         -4.26896441e-03,  -4.35897860e-03,  -8.65376836e-03],\n",
       "       [  8.54987595e-03,  -4.25424742e-03,   8.92882381e-03, ...,\n",
       "          2.61599722e-03,   3.81199950e-03,  -8.26316744e-04]])"
      ]
     },
     "execution_count": 12,
     "metadata": {},
     "output_type": "execute_result"
    }
   ],
   "source": [
    "V"
   ]
  },
  {
   "cell_type": "code",
   "execution_count": 13,
   "metadata": {},
   "outputs": [
    {
     "data": {
      "text/plain": [
       "(28808, 200)"
      ]
     },
     "execution_count": 13,
     "metadata": {},
     "output_type": "execute_result"
    }
   ],
   "source": [
    "np.shape(V)"
   ]
  },
  {
   "cell_type": "code",
   "execution_count": 14,
   "metadata": {},
   "outputs": [],
   "source": [
    "VT = V.T"
   ]
  },
  {
   "cell_type": "code",
   "execution_count": 15,
   "metadata": {},
   "outputs": [
    {
     "data": {
      "text/plain": [
       "array([[  2.72851153e-03,   3.52258572e-03,   4.49728808e-03, ...,\n",
       "          2.96197546e-03,   1.01092678e-02,   8.54987595e-03],\n",
       "       [  2.03328100e-04,  -3.47573068e-03,  -8.68520479e-03, ...,\n",
       "         -2.19180664e-03,  -2.11808344e-02,  -4.25424742e-03],\n",
       "       [  3.15455023e-03,   7.01807834e-03,   9.86235066e-04, ...,\n",
       "          1.95195178e-03,  -5.44329422e-03,   8.92882381e-03],\n",
       "       ..., \n",
       "       [ -3.49938994e-03,   4.25525672e-03,   4.47998994e-03, ...,\n",
       "         -9.09499052e-05,  -4.26896441e-03,   2.61599722e-03],\n",
       "       [  2.80776454e-03,  -5.52874735e-03,   4.64590528e-03, ...,\n",
       "         -1.90450329e-03,  -4.35897860e-03,   3.81199950e-03],\n",
       "       [ -5.27269447e-06,   3.87331683e-03,   2.86301889e-04, ...,\n",
       "         -3.74261542e-03,  -8.65376836e-03,  -8.26316744e-04]])"
      ]
     },
     "execution_count": 15,
     "metadata": {},
     "output_type": "execute_result"
    }
   ],
   "source": [
    "VT"
   ]
  },
  {
   "cell_type": "code",
   "execution_count": 16,
   "metadata": {},
   "outputs": [
    {
     "data": {
      "text/plain": [
       "<matplotlib.collections.PathCollection at 0x115002400>"
      ]
     },
     "execution_count": 16,
     "metadata": {},
     "output_type": "execute_result"
    },
    {
     "data": {
      "image/png": "[encoded data removed]",
      "text/plain": [
       "<matplotlib.figure.Figure at 0x114b54cf8>"
      ]
     },
     "metadata": {},
     "output_type": "display_data"
    }
   ],
   "source": [
    "plt.scatter(VT[0, :], VT[1, :])"
   ]
  },
  {
   "cell_type": "code",
   "execution_count": null,
   "metadata": {},
   "outputs": [],
   "source": []
  }
 ],
 "metadata": {
  "kernelspec": {
   "display_name": "Python [conda env:py35]",
   "language": "python",
   "name": "conda-env-py35-py"
  },
  "language_info": {
   "codemirror_mode": {
    "name": "ipython",
    "version": 3
   },
   "file_extension": ".py",
   "mimetype": "text/x-python",
   "name": "python",
   "nbconvert_exporter": "python",
   "pygments_lexer": "ipython3",
   "version": "3.5.4"
  }
 },
 "nbformat": 4,
 "nbformat_minor": 2
}
