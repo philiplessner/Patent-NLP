{
 "cells": [
  {
   "cell_type": "markdown",
   "metadata": {},
   "source": [
    "### US Patent XML Files ###"
   ]
  },
  {
   "cell_type": "code",
   "execution_count": 1,
   "metadata": {},
   "outputs": [],
   "source": [
    "import xml.etree.ElementTree as ET\n",
    "import tempfile\n",
    "import shutil\n",
    "from typing import Iterator"
   ]
  },
  {
   "cell_type": "code",
   "execution_count": 2,
   "metadata": {},
   "outputs": [],
   "source": [
    "# File path strings\n",
    "XMLFILE = '../intermediate/patent.xml'\n",
    "ARCHIVEFILE = '../intermediate/utility-patent' # The tar.gz extension is added by shutil.make_archive"
   ]
  },
  {
   "cell_type": "markdown",
   "metadata": {},
   "source": [
    "#### Getting Individual Files ####\n",
    "\n",
    "Zipped versions of US patent XML files from 1976 onward are available at http://patents.reedtech.com/pgrbft.php . These files contain issued Utility patents, Plant Patents, and Design Patents.\n",
    "\n",
    "Each file contains multiple patent XML documents:\n",
    "\n",
    "<?xml version=\"1.0\" encoding=\"UTF-8\"?>\n",
    "<!DOCTYPE us-patent-grant SYSTEM \"us-patent-grant-v45-2014-04-03.dtd\" [ ]>\n",
    "<us-patent-grant lang=\"EN\" dtd-version=\"v4.5 2014-04-03\" file=\"US08925112-20150106.XML\" status=\"PRODUCTION\" id=\"us-patent-grant\" country=\"US\" date-produced=\"20141219\" date-publ=\"20150106\">\n",
    "\n",
    "...Patent information\n",
    "\n",
    "<?xml version=\"1.0\" encoding=\"UTF-8\"?>\n",
    "<!DOCTYPE us-patent-grant SYSTEM \"us-patent-grant-v45-2014-04-03.dtd\" [ ]>\n",
    "\n",
    "...Patent information\n",
    "\n",
    "We begin processing by separating these concatenated files into individual strings using get_indivdocs."
   ]
  },
  {
   "cell_type": "code",
   "execution_count": 3,
   "metadata": {},
   "outputs": [],
   "source": [
    "def get_indivdocs(filepath: str) -> Iterator[str]:\n",
    "    '''Split a file contanining multiple xml docs into a list that contains\n",
    "        each xml doc as a string.\n",
    "        Parameter\n",
    "            filepath: full path string to file containing multiple xml docs\n",
    "         Returns\n",
    "             iterator of strs with each string being an individual xml document\n",
    "    '''\n",
    "    s = \"\"\n",
    "    with open(filepath, 'r') as f:\n",
    "        for l in f:\n",
    "            if l == '<?xml version=\"1.0\" encoding=\"UTF-8\"?>\\n':\n",
    "                if len(s) > 0:\n",
    "                    yield s\n",
    "                s = \"\"\n",
    "            s += l\n",
    "        yield s"
   ]
  },
  {
   "cell_type": "markdown",
   "metadata": {},
   "source": [
    "#### Patent Types ####\n",
    "\n",
    "Patent types are Utility, Plant, and Design. We are only interested in Utility patents. They type of patent is found in the 'appl-type' attribute in 'application-reference' tag.\n",
    "\n",
    "patent_type is used to filter out only utility patents. Some patents are missing the attribute so we do return patents with the missing attribute tag."
   ]
  },
  {
   "cell_type": "code",
   "execution_count": 4,
   "metadata": {},
   "outputs": [],
   "source": [
    "def patent_type(doc: str, patenttype_tocheck: str) -> bool:\n",
    "    '''Check whether the patent xml document is the type we want to collect\n",
    "    Parameters\n",
    "        doc: str containing xml document\n",
    "        patenttype_tocheck: utility, design, plant\n",
    "    Returns\n",
    "        True if patent type is the type we want\n",
    "        False if the type filed does not exist or if it is a different type\n",
    "    '''\n",
    "    root = ET.fromstring(doc)\n",
    "    bib = root.findall('us-bibliographic-data-grant')\n",
    "    if not bib:\n",
    "        return False\n",
    "    return (True if bib[0][1].attrib['appl-type'] == patenttype_tocheck\n",
    "            else False)"
   ]
  },
  {
   "cell_type": "markdown",
   "metadata": {},
   "source": [
    "#### Archive File ####\n",
    "\n",
    "Each utility patent is written to a separate file with a file name: patentnumber.xml. The files are compressed into a tar.gz archive."
   ]
  },
  {
   "cell_type": "code",
   "execution_count": 5,
   "metadata": {},
   "outputs": [],
   "source": [
    "def patentxml2utilityxmlarch(filepath: str) -> None:\n",
    "    '''Take the composite xml patent doc and writes xml a tar.gz compressed archive of individual utility\n",
    "       patent xml files using the patent number.xml as the file name\n",
    "       Parameters\n",
    "           filepath: full filepath string to xml document       \n",
    "    '''\n",
    "    filtered_docs = (doc for doc in get_indivdocs(XMLFILE) if patent_type(doc, 'utility'))\n",
    "    with tempfile.TemporaryDirectory() as tmpdirname:\n",
    "        for doc in filtered_docs:\n",
    "            pn = str(int(ET.fromstring(doc).findall('.//doc-number')[0].text))\n",
    "            with open(tmpdirname + '/' + pn + '.xml', 'w', encoding='utf-8') as f:\n",
    "                f.write(doc)\n",
    "        shutil.make_archive(ARCHIVEFILE, 'gztar', tmpdirname + '/')\n",
    "            "
   ]
  },
  {
   "cell_type": "code",
   "execution_count": 6,
   "metadata": {},
   "outputs": [],
   "source": [
    "patentxml2utilityxmlarch(XMLFILE)"
   ]
  }
 ],
 "metadata": {
  "kernelspec": {
   "display_name": "Python [conda env:py35]",
   "language": "python",
   "name": "conda-env-py35-py"
  },
  "language_info": {
   "codemirror_mode": {
    "name": "ipython",
    "version": 3
   },
   "file_extension": ".py",
   "mimetype": "text/x-python",
   "name": "python",
   "nbconvert_exporter": "python",
   "pygments_lexer": "ipython3",
   "version": "3.5.4"
  }
 },
 "nbformat": 4,
 "nbformat_minor": 2
}
